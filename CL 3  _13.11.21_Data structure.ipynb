{
 "cells": [
  {
   "cell_type": "markdown",
   "id": "65305a49",
   "metadata": {},
   "source": [
    "# List data stractrue"
   ]
  },
  {
   "cell_type": "code",
   "execution_count": 27,
   "id": "2a6b81de",
   "metadata": {},
   "outputs": [],
   "source": [
    "list1=[1,2,3,4,5,6,7]"
   ]
  },
  {
   "cell_type": "code",
   "execution_count": 28,
   "id": "737f9347",
   "metadata": {},
   "outputs": [
    {
     "data": {
      "text/plain": [
       "[1, 2, 3, 4, 5, 6, 7]"
      ]
     },
     "execution_count": 28,
     "metadata": {},
     "output_type": "execute_result"
    }
   ],
   "source": [
    "list1"
   ]
  },
  {
   "cell_type": "code",
   "execution_count": 29,
   "id": "8d9c4b2f",
   "metadata": {},
   "outputs": [],
   "source": [
    "list1.append(6)"
   ]
  },
  {
   "cell_type": "code",
   "execution_count": 30,
   "id": "eafa650b",
   "metadata": {},
   "outputs": [
    {
     "data": {
      "text/plain": [
       "[1, 2, 3, 4, 5, 6, 7, 6]"
      ]
     },
     "execution_count": 30,
     "metadata": {},
     "output_type": "execute_result"
    }
   ],
   "source": [
    "list1"
   ]
  },
  {
   "cell_type": "code",
   "execution_count": 31,
   "id": "c445690a",
   "metadata": {},
   "outputs": [],
   "source": [
    "list1.insert(3,500)"
   ]
  },
  {
   "cell_type": "code",
   "execution_count": 32,
   "id": "d448fc43",
   "metadata": {},
   "outputs": [
    {
     "data": {
      "text/plain": [
       "[1, 2, 3, 500, 4, 5, 6, 7, 6]"
      ]
     },
     "execution_count": 32,
     "metadata": {},
     "output_type": "execute_result"
    }
   ],
   "source": [
    "list1"
   ]
  },
  {
   "cell_type": "code",
   "execution_count": 33,
   "id": "ef2e0c27",
   "metadata": {},
   "outputs": [],
   "source": [
    "list1.sort()"
   ]
  },
  {
   "cell_type": "code",
   "execution_count": 34,
   "id": "05f2a1e0",
   "metadata": {},
   "outputs": [
    {
     "data": {
      "text/plain": [
       "[1, 2, 3, 4, 5, 6, 6, 7, 500]"
      ]
     },
     "execution_count": 34,
     "metadata": {},
     "output_type": "execute_result"
    }
   ],
   "source": [
    "list1"
   ]
  },
  {
   "cell_type": "code",
   "execution_count": 35,
   "id": "1e360702",
   "metadata": {},
   "outputs": [],
   "source": [
    "list1.reverse()"
   ]
  },
  {
   "cell_type": "code",
   "execution_count": 36,
   "id": "20d33d09",
   "metadata": {},
   "outputs": [
    {
     "data": {
      "text/plain": [
       "[500, 7, 6, 6, 5, 4, 3, 2, 1]"
      ]
     },
     "execution_count": 36,
     "metadata": {},
     "output_type": "execute_result"
    }
   ],
   "source": [
    "list1"
   ]
  },
  {
   "cell_type": "code",
   "execution_count": 37,
   "id": "b059411b",
   "metadata": {},
   "outputs": [],
   "source": [
    "list2=[\"ankit\", \"ankur\", \"kaku\"]"
   ]
  },
  {
   "cell_type": "code",
   "execution_count": 38,
   "id": "46dc3978",
   "metadata": {},
   "outputs": [],
   "source": [
    "list2.insert(1,\"Ashok kumar\")"
   ]
  },
  {
   "cell_type": "code",
   "execution_count": 39,
   "id": "7c750225",
   "metadata": {},
   "outputs": [
    {
     "data": {
      "text/plain": [
       "['ankit', 'Ashok kumar', 'ankur', 'kaku']"
      ]
     },
     "execution_count": 39,
     "metadata": {},
     "output_type": "execute_result"
    }
   ],
   "source": [
    "list2"
   ]
  },
  {
   "cell_type": "code",
   "execution_count": 40,
   "id": "56f419de",
   "metadata": {},
   "outputs": [
    {
     "data": {
      "text/plain": [
       "'Ashok kumar'"
      ]
     },
     "execution_count": 40,
     "metadata": {},
     "output_type": "execute_result"
    }
   ],
   "source": [
    "list2.pop(1)"
   ]
  },
  {
   "cell_type": "code",
   "execution_count": 41,
   "id": "f1f6e92a",
   "metadata": {},
   "outputs": [],
   "source": [
    "list2.remove(\"ankit\")"
   ]
  },
  {
   "cell_type": "code",
   "execution_count": 42,
   "id": "0651157c",
   "metadata": {},
   "outputs": [
    {
     "data": {
      "text/plain": [
       "['ankur', 'kaku']"
      ]
     },
     "execution_count": 42,
     "metadata": {},
     "output_type": "execute_result"
    }
   ],
   "source": [
    "list2"
   ]
  },
  {
   "cell_type": "code",
   "execution_count": 43,
   "id": "4276d3dc",
   "metadata": {},
   "outputs": [
    {
     "data": {
      "text/plain": [
       "'kaku'"
      ]
     },
     "execution_count": 43,
     "metadata": {},
     "output_type": "execute_result"
    }
   ],
   "source": [
    "list2.pop()"
   ]
  },
  {
   "cell_type": "code",
   "execution_count": 44,
   "id": "54cb929e",
   "metadata": {},
   "outputs": [
    {
     "data": {
      "text/plain": [
       "['ankur']"
      ]
     },
     "execution_count": 44,
     "metadata": {},
     "output_type": "execute_result"
    }
   ],
   "source": [
    "list2"
   ]
  },
  {
   "cell_type": "code",
   "execution_count": 45,
   "id": "1184ba10",
   "metadata": {},
   "outputs": [],
   "source": [
    "list2.clear()"
   ]
  },
  {
   "cell_type": "code",
   "execution_count": 46,
   "id": "7fe3b188",
   "metadata": {},
   "outputs": [
    {
     "data": {
      "text/plain": [
       "[]"
      ]
     },
     "execution_count": 46,
     "metadata": {},
     "output_type": "execute_result"
    }
   ],
   "source": [
    "list2"
   ]
  },
  {
   "cell_type": "code",
   "execution_count": 58,
   "id": "60c3c659",
   "metadata": {},
   "outputs": [],
   "source": [
    "list1.append([111,222])"
   ]
  },
  {
   "cell_type": "code",
   "execution_count": 59,
   "id": "2947bfe6",
   "metadata": {},
   "outputs": [
    {
     "data": {
      "text/plain": [
       "[500, 7, 6, 6, 5, 4, 3, 2, 1, 111, [111, 222]]"
      ]
     },
     "execution_count": 59,
     "metadata": {},
     "output_type": "execute_result"
    }
   ],
   "source": [
    "list1"
   ]
  },
  {
   "cell_type": "code",
   "execution_count": 60,
   "id": "3017e2b1",
   "metadata": {},
   "outputs": [],
   "source": [
    "list1.extend([222,333,444])"
   ]
  },
  {
   "cell_type": "code",
   "execution_count": 63,
   "id": "a14b7c1c",
   "metadata": {},
   "outputs": [
    {
     "data": {
      "text/plain": [
       "[1, 2, 3, 4, 5, 6, 6, 7, 111, 500, [111, 222], 222, 333, 444]"
      ]
     },
     "execution_count": 63,
     "metadata": {},
     "output_type": "execute_result"
    }
   ],
   "source": [
    "list1"
   ]
  },
  {
   "cell_type": "code",
   "execution_count": 67,
   "id": "e35c8ca1",
   "metadata": {},
   "outputs": [],
   "source": [
    "del list1"
   ]
  },
  {
   "cell_type": "code",
   "execution_count": 68,
   "id": "07f90793",
   "metadata": {},
   "outputs": [
    {
     "ename": "NameError",
     "evalue": "name 'list1' is not defined",
     "output_type": "error",
     "traceback": [
      "\u001b[1;31m---------------------------------------------------------------------------\u001b[0m",
      "\u001b[1;31mNameError\u001b[0m                                 Traceback (most recent call last)",
      "\u001b[1;32m~\\AppData\\Local\\Temp/ipykernel_10828/866546473.py\u001b[0m in \u001b[0;36m<module>\u001b[1;34m\u001b[0m\n\u001b[1;32m----> 1\u001b[1;33m \u001b[0mlist1\u001b[0m\u001b[1;33m\u001b[0m\u001b[1;33m\u001b[0m\u001b[0m\n\u001b[0m",
      "\u001b[1;31mNameError\u001b[0m: name 'list1' is not defined"
     ]
    }
   ],
   "source": [
    "list1"
   ]
  },
  {
   "cell_type": "code",
   "execution_count": 70,
   "id": "dfba436d",
   "metadata": {},
   "outputs": [],
   "source": [
    "list1=[600,800,1000,1100]"
   ]
  },
  {
   "cell_type": "code",
   "execution_count": 71,
   "id": "4130281a",
   "metadata": {},
   "outputs": [],
   "source": [
    "list1[1]=9999"
   ]
  },
  {
   "cell_type": "code",
   "execution_count": 72,
   "id": "f8bc8628",
   "metadata": {},
   "outputs": [
    {
     "data": {
      "text/plain": [
       "[600, 9999, 1000, 1100]"
      ]
     },
     "execution_count": 72,
     "metadata": {},
     "output_type": "execute_result"
    }
   ],
   "source": [
    "list1"
   ]
  },
  {
   "cell_type": "code",
   "execution_count": null,
   "id": "c2509c69",
   "metadata": {},
   "outputs": [],
   "source": []
  },
  {
   "cell_type": "markdown",
   "id": "e36fb205",
   "metadata": {},
   "source": [
    "\n",
    "# tuples"
   ]
  },
  {
   "cell_type": "markdown",
   "id": "e57fc62a",
   "metadata": {},
   "source": [
    "Tuples are similiar to lists ,but they are immutable, which means they cannot be changed after creation. tuples is the another data structure, this also an python dta here we need to right the collection of the value you can write to any number collection."
   ]
  },
  {
   "cell_type": "markdown",
   "id": "44c25274",
   "metadata": {},
   "source": [
    "tuples always under round bracket only ()"
   ]
  },
  {
   "cell_type": "raw",
   "id": "bebdc2fd",
   "metadata": {},
   "source": [
    "ankit1=(19,2,1995)\n",
    "ankit2=('ankit',\"ankitsharma\",\"ankitankit\")"
   ]
  },
  {
   "cell_type": "code",
   "execution_count": 76,
   "id": "6486ca56",
   "metadata": {},
   "outputs": [
    {
     "data": {
      "text/plain": [
       "(19, 2, 1995)"
      ]
     },
     "execution_count": 76,
     "metadata": {},
     "output_type": "execute_result"
    }
   ],
   "source": [
    "ankit1"
   ]
  },
  {
   "cell_type": "code",
   "execution_count": 77,
   "id": "e4b565af",
   "metadata": {},
   "outputs": [
    {
     "data": {
      "text/plain": [
       "('ankit', 'ankitsharma', 'ankitankit')"
      ]
     },
     "execution_count": 77,
     "metadata": {},
     "output_type": "execute_result"
    }
   ],
   "source": [
    "ankit2"
   ]
  },
  {
   "cell_type": "code",
   "execution_count": 79,
   "id": "bb917445",
   "metadata": {},
   "outputs": [
    {
     "data": {
      "text/plain": [
       "1995"
      ]
     },
     "execution_count": 79,
     "metadata": {},
     "output_type": "execute_result"
    }
   ],
   "source": [
    "#access the value\n",
    "\n",
    "ankit1[2]"
   ]
  },
  {
   "cell_type": "code",
   "execution_count": 80,
   "id": "8b3cf919",
   "metadata": {},
   "outputs": [
    {
     "data": {
      "text/plain": [
       "(19, 2, 1995, 'ankit', 'ankitsharma', 'ankitankit')"
      ]
     },
     "execution_count": 80,
     "metadata": {},
     "output_type": "execute_result"
    }
   ],
   "source": [
    "#adding the list\n",
    "ankit1+ankit2"
   ]
  },
  {
   "cell_type": "markdown",
   "id": "575a875d",
   "metadata": {},
   "source": [
    "3 differance between tuples and list\n",
    "\n",
    "1. list are the mutable (changeable) and tuples are non mutable\n",
    "2.you can chnage the value after creation the list but tuples are not allowed, they are fixed"
   ]
  },
  {
   "cell_type": "markdown",
   "id": "ffcd9526",
   "metadata": {},
   "source": [
    "# DIctionary"
   ]
  },
  {
   "cell_type": "markdown",
   "id": "d1ca78fa",
   "metadata": {},
   "source": [
    "we can change the data in dictionary, dictionary is very important data staructure. key:value Base'"
   ]
  },
  {
   "cell_type": "markdown",
   "id": "4f8b39b8",
   "metadata": {},
   "source": [
    "dictionary is { } basis.\n",
    "Book1{key:valule,key2:value2}"
   ]
  },
  {
   "cell_type": "code",
   "execution_count": 82,
   "id": "a16581ad",
   "metadata": {},
   "outputs": [],
   "source": [
    "book1={\"rollno\":101,\"Name\":\"devesh\",\"marks\":1000}"
   ]
  },
  {
   "cell_type": "code",
   "execution_count": 83,
   "id": "5b30f317",
   "metadata": {},
   "outputs": [
    {
     "data": {
      "text/plain": [
       "{'rollno': 101, 'Name': 'devesh', 'marks': 1000}"
      ]
     },
     "execution_count": 83,
     "metadata": {},
     "output_type": "execute_result"
    }
   ],
   "source": [
    "book1"
   ]
  },
  {
   "cell_type": "code",
   "execution_count": 86,
   "id": "45bcd295",
   "metadata": {},
   "outputs": [
    {
     "data": {
      "text/plain": [
       "dict_keys(['rollno', 'Name', 'marks'])"
      ]
     },
     "execution_count": 86,
     "metadata": {},
     "output_type": "execute_result"
    }
   ],
   "source": [
    "book1.keys()"
   ]
  },
  {
   "cell_type": "code",
   "execution_count": 89,
   "id": "14acdb9e",
   "metadata": {},
   "outputs": [
    {
     "data": {
      "text/plain": [
       "dict_values([101, 'devesh', 1000])"
      ]
     },
     "execution_count": 89,
     "metadata": {},
     "output_type": "execute_result"
    }
   ],
   "source": [
    "book1.values()"
   ]
  },
  {
   "cell_type": "code",
   "execution_count": 90,
   "id": "34d7cf2f",
   "metadata": {},
   "outputs": [
    {
     "data": {
      "text/plain": [
       "3"
      ]
     },
     "execution_count": 90,
     "metadata": {},
     "output_type": "execute_result"
    }
   ],
   "source": [
    "len(book1)"
   ]
  },
  {
   "cell_type": "code",
   "execution_count": 92,
   "id": "448ff4c1",
   "metadata": {},
   "outputs": [
    {
     "data": {
      "text/plain": [
       "dict_items([('rollno', 101), ('Name', 'devesh'), ('marks', 1000)])"
      ]
     },
     "execution_count": 92,
     "metadata": {},
     "output_type": "execute_result"
    }
   ],
   "source": [
    "book1.items()"
   ]
  },
  {
   "cell_type": "markdown",
   "id": "3a139f15",
   "metadata": {},
   "source": [
    "data added in dictionary"
   ]
  },
  {
   "cell_type": "code",
   "execution_count": 93,
   "id": "b1a72821",
   "metadata": {},
   "outputs": [],
   "source": [
    "book1.update({'fee':10000})"
   ]
  },
  {
   "cell_type": "code",
   "execution_count": 95,
   "id": "c88fc946",
   "metadata": {},
   "outputs": [
    {
     "data": {
      "text/plain": [
       "{'rollno': 101, 'Name': 'devesh', 'marks': 1000, 'fee': 10000}"
      ]
     },
     "execution_count": 95,
     "metadata": {},
     "output_type": "execute_result"
    }
   ],
   "source": [
    "book1"
   ]
  },
  {
   "cell_type": "code",
   "execution_count": 103,
   "id": "b3c517a2",
   "metadata": {},
   "outputs": [
    {
     "name": "stdout",
     "output_type": "stream",
     "text": [
      "book1= {'rollno': 101, 'Name': 'devesh', 'marks': 1000, 'fee': 10000}\n"
     ]
    }
   ],
   "source": [
    "print(\"book1=\",book1)"
   ]
  },
  {
   "cell_type": "code",
   "execution_count": 109,
   "id": "1ad93329",
   "metadata": {},
   "outputs": [
    {
     "ename": "SyntaxError",
     "evalue": "invalid syntax (Temp/ipykernel_10828/242393681.py, line 1)",
     "output_type": "error",
     "traceback": [
      "\u001b[1;36m  File \u001b[1;32m\"C:\\Users\\DELL\\AppData\\Local\\Temp/ipykernel_10828/242393681.py\"\u001b[1;36m, line \u001b[1;32m1\u001b[0m\n\u001b[1;33m    print(\"book1=\",:book1[\"name\"])\u001b[0m\n\u001b[1;37m                   ^\u001b[0m\n\u001b[1;31mSyntaxError\u001b[0m\u001b[1;31m:\u001b[0m invalid syntax\n"
     ]
    }
   ],
   "source": [
    "print(\"book1=\",:book1[\"name\"])"
   ]
  },
  {
   "cell_type": "code",
   "execution_count": null,
   "id": "29ef99b8",
   "metadata": {},
   "outputs": [],
   "source": []
  }
 ],
 "metadata": {
  "kernelspec": {
   "display_name": "Python 3 (ipykernel)",
   "language": "python",
   "name": "python3"
  },
  "language_info": {
   "codemirror_mode": {
    "name": "ipython",
    "version": 3
   },
   "file_extension": ".py",
   "mimetype": "text/x-python",
   "name": "python",
   "nbconvert_exporter": "python",
   "pygments_lexer": "ipython3",
   "version": "3.9.7"
  }
 },
 "nbformat": 4,
 "nbformat_minor": 5
}
