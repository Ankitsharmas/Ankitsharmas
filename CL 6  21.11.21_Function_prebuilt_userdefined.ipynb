{
 "cells": [
  {
   "cell_type": "markdown",
   "id": "ed4cbdd9",
   "metadata": {},
   "source": [
    "string format \n",
    "\n",
    "python used C-style formatting to create new, formatting string. the \"%\" operator is used to format a set of variables enclosed\n",
    "in a \"Tuple\" (A fixed size list), together with a format string. which contains normal text together with \"argument specifiers\" special symbols like \"%S and %D\""
   ]
  },
  {
   "cell_type": "code",
   "execution_count": 6,
   "id": "3fe25bfd",
   "metadata": {},
   "outputs": [
    {
     "name": "stdout",
     "output_type": "stream",
     "text": [
      "hello, john!\n"
     ]
    }
   ],
   "source": [
    "# this prints out \"hello , John\"\n",
    "\n",
    "name=\"john\"\n",
    "print(\"hello, %s!\" %name)"
   ]
  },
  {
   "cell_type": "code",
   "execution_count": 20,
   "id": "140f0fb5",
   "metadata": {},
   "outputs": [
    {
     "name": "stdout",
     "output_type": "stream",
     "text": [
      "john is 25 years old\n"
     ]
    }
   ],
   "source": [
    "# print the \" john is 25 years old\"\n",
    "name=\"john\"\n",
    "age=25\n",
    "print(\"%s is %d years old\" %(name,age))"
   ]
  },
  {
   "cell_type": "code",
   "execution_count": 22,
   "id": "38519076",
   "metadata": {},
   "outputs": [
    {
     "name": "stdout",
     "output_type": "stream",
     "text": [
      "i have a apple and banana\n"
     ]
    }
   ],
   "source": [
    "x=\"apple\"\n",
    "y=\"banana\"\n",
    "print(\"i have a %s and %s\" %(x,y))"
   ]
  },
  {
   "cell_type": "code",
   "execution_count": 23,
   "id": "43a6da25",
   "metadata": {},
   "outputs": [
    {
     "name": "stdout",
     "output_type": "stream",
     "text": [
      "i am going to delhi by car and bike\n"
     ]
    }
   ],
   "source": [
    "a= \"car\"\n",
    "b= \"bike\"\n",
    "print(\"i am going to delhi by %s and %s\" %(a,b))"
   ]
  },
  {
   "cell_type": "code",
   "execution_count": 25,
   "id": "73b39fc0",
   "metadata": {},
   "outputs": [
    {
     "name": "stdout",
     "output_type": "stream",
     "text": [
      "i am going to delhi by car and bike for ride 50 kms.\n"
     ]
    }
   ],
   "source": [
    "a= \"car\"\n",
    "b= \"bike\"\n",
    "c= 50\n",
    "print(\"i am going to delhi by %s and %s for ride %d kms.\" %(a,b,c))"
   ]
  },
  {
   "cell_type": "code",
   "execution_count": 26,
   "id": "c989cf20",
   "metadata": {},
   "outputs": [],
   "source": [
    "a= \"car\"\n",
    "b= \"bike\"\n",
    "c= 50\n",
    "d=\"i am going to delhi by %s and %s for ride %d kms.\" %(a,b,c)"
   ]
  },
  {
   "cell_type": "code",
   "execution_count": 27,
   "id": "37f68186",
   "metadata": {},
   "outputs": [
    {
     "data": {
      "text/plain": [
       "'i am going to delhi by car and bike for ride 50 kms.'"
      ]
     },
     "execution_count": 27,
     "metadata": {},
     "output_type": "execute_result"
    }
   ],
   "source": [
    "d"
   ]
  },
  {
   "cell_type": "code",
   "execution_count": 28,
   "id": "99ae880d",
   "metadata": {},
   "outputs": [
    {
     "data": {
      "text/plain": [
       "'I am going to delhi by car and bike for ride 50 kms.'"
      ]
     },
     "execution_count": 28,
     "metadata": {},
     "output_type": "execute_result"
    }
   ],
   "source": [
    "d.capitalize()"
   ]
  },
  {
   "cell_type": "code",
   "execution_count": 29,
   "id": "ac2dba06",
   "metadata": {},
   "outputs": [
    {
     "data": {
      "text/plain": [
       "'I AM GOING TO DELHI BY CAR AND BIKE FOR RIDE 50 KMS.'"
      ]
     },
     "execution_count": 29,
     "metadata": {},
     "output_type": "execute_result"
    }
   ],
   "source": [
    "d.upper()"
   ]
  },
  {
   "cell_type": "code",
   "execution_count": 31,
   "id": "d93ab41f",
   "metadata": {},
   "outputs": [
    {
     "data": {
      "text/plain": [
       "'i am going to delhi by car and bike for ride 50 kms.'"
      ]
     },
     "execution_count": 31,
     "metadata": {},
     "output_type": "execute_result"
    }
   ],
   "source": [
    "d.lower()"
   ]
  },
  {
   "cell_type": "code",
   "execution_count": 33,
   "id": "f635fa86",
   "metadata": {},
   "outputs": [
    {
     "data": {
      "text/plain": [
       "'I AM GOING TO DELHI BY CAR AND BIKE FOR RIDE 50 KMS.'"
      ]
     },
     "execution_count": 33,
     "metadata": {},
     "output_type": "execute_result"
    }
   ],
   "source": [
    "d.swapcase()"
   ]
  },
  {
   "cell_type": "code",
   "execution_count": 52,
   "id": "8c402485",
   "metadata": {},
   "outputs": [
    {
     "name": "stdout",
     "output_type": "stream",
     "text": [
      "john is 25 years old\n"
     ]
    }
   ],
   "source": [
    "name=\"john\"\n",
    "age=25\n",
    "print(\"%s is %d years old\" %(name,age))"
   ]
  },
  {
   "cell_type": "code",
   "execution_count": 54,
   "id": "f2a70b7a",
   "metadata": {},
   "outputs": [
    {
     "name": "stdout",
     "output_type": "stream",
     "text": [
      "john is 20 years old\n"
     ]
    }
   ],
   "source": [
    "name=\"john\"\n",
    "age=20\n",
    "print(\"{} is {} years old\" .format(name,age))"
   ]
  },
  {
   "cell_type": "code",
   "execution_count": 44,
   "id": "71f583e8",
   "metadata": {},
   "outputs": [
    {
     "name": "stdout",
     "output_type": "stream",
     "text": [
      "spam and egg\n",
      "egg and spam\n"
     ]
    }
   ],
   "source": [
    "print('{0} and {1}' .format('spam','egg'))\n",
    "\n",
    "\n",
    "print('{1} and {0}' .format('spam','egg'))"
   ]
  },
  {
   "cell_type": "markdown",
   "id": "ebffe651",
   "metadata": {},
   "source": [
    "#Function\n",
    "1. inbuilt function (pre-defined)\n",
    "2. user function\n",
    "3. anonymous function (lambda function)"
   ]
  },
  {
   "cell_type": "markdown",
   "id": "af028978",
   "metadata": {},
   "source": [
    "Build in functions\n",
    "help(), print(), int(), float(),str(), type(), range(), max(), min(), len(), input(), list()"
   ]
  },
  {
   "cell_type": "code",
   "execution_count": 59,
   "id": "fc603d87",
   "metadata": {},
   "outputs": [
    {
     "name": "stdout",
     "output_type": "stream",
     "text": [
      "\n",
      "Welcome to Python 3.9's help utility!\n",
      "\n",
      "If this is your first time using Python, you should definitely check out\n",
      "the tutorial on the Internet at https://docs.python.org/3.9/tutorial/.\n",
      "\n",
      "Enter the name of any module, keyword, or topic to get help on writing\n",
      "Python programs and using Python modules.  To quit this help utility and\n",
      "return to the interpreter, just type \"quit\".\n",
      "\n",
      "To get a list of available modules, keywords, symbols, or topics, type\n",
      "\"modules\", \"keywords\", \"symbols\", or \"topics\".  Each module also comes\n",
      "with a one-line summary of what it does; to list the modules whose name\n",
      "or summary contain a given string such as \"spam\", type \"modules spam\".\n",
      "\n",
      "help> len\n",
      "Help on built-in function len in module builtins:\n",
      "\n",
      "len(obj, /)\n",
      "    Return the number of items in a container.\n",
      "\n",
      "\n",
      "You are now leaving help and returning to the Python interpreter.\n",
      "If you want to ask for help on a particular object directly from the\n",
      "interpreter, you can type \"help(object)\".  Executing \"help('string')\"\n",
      "has the same effect as typing a particular string at the help> prompt.\n"
     ]
    }
   ],
   "source": [
    "help()"
   ]
  },
  {
   "cell_type": "code",
   "execution_count": 61,
   "id": "e1e24a7b",
   "metadata": {},
   "outputs": [
    {
     "data": {
      "text/plain": [
       "22"
      ]
     },
     "execution_count": 61,
     "metadata": {},
     "output_type": "execute_result"
    }
   ],
   "source": [
    "k=[40,90,22,78,30,56]\n",
    "min(k)"
   ]
  },
  {
   "cell_type": "code",
   "execution_count": 62,
   "id": "2520fadd",
   "metadata": {},
   "outputs": [
    {
     "data": {
      "text/plain": [
       "90"
      ]
     },
     "execution_count": 62,
     "metadata": {},
     "output_type": "execute_result"
    }
   ],
   "source": [
    "max(k)"
   ]
  },
  {
   "cell_type": "markdown",
   "id": "3c246f9c",
   "metadata": {},
   "source": [
    "# USER DEFINED FUNCTIONS"
   ]
  },
  {
   "cell_type": "code",
   "execution_count": 63,
   "id": "5441a301",
   "metadata": {},
   "outputs": [],
   "source": [
    "#function defination"
   ]
  },
  {
   "cell_type": "code",
   "execution_count": 64,
   "id": "e06a816b",
   "metadata": {},
   "outputs": [],
   "source": [
    "def function1():\n",
    "    print('Hello function1')"
   ]
  },
  {
   "cell_type": "code",
   "execution_count": 66,
   "id": "93668ad7",
   "metadata": {},
   "outputs": [
    {
     "name": "stdout",
     "output_type": "stream",
     "text": [
      "Hello function1\n"
     ]
    }
   ],
   "source": [
    "#function calling\n",
    "function1()"
   ]
  },
  {
   "cell_type": "code",
   "execution_count": 67,
   "id": "28e0caa0",
   "metadata": {},
   "outputs": [],
   "source": [
    "def function2():\n",
    "    print('how are you')"
   ]
  },
  {
   "cell_type": "code",
   "execution_count": 68,
   "id": "cb4ebd54",
   "metadata": {},
   "outputs": [
    {
     "name": "stdout",
     "output_type": "stream",
     "text": [
      "how are you\n"
     ]
    }
   ],
   "source": [
    "function2()"
   ]
  },
  {
   "cell_type": "code",
   "execution_count": 69,
   "id": "1712368a",
   "metadata": {},
   "outputs": [],
   "source": [
    "def function1995():\n",
    "    print(\"your birth of year\")"
   ]
  },
  {
   "cell_type": "code",
   "execution_count": 70,
   "id": "59fd0392",
   "metadata": {},
   "outputs": [
    {
     "name": "stdout",
     "output_type": "stream",
     "text": [
      "your birth of year\n"
     ]
    }
   ],
   "source": [
    "function1995()"
   ]
  },
  {
   "cell_type": "code",
   "execution_count": 71,
   "id": "ac2b700d",
   "metadata": {},
   "outputs": [],
   "source": [
    "def function2():\n",
    "    print('Inside function2')"
   ]
  },
  {
   "cell_type": "code",
   "execution_count": 72,
   "id": "98da0c3d",
   "metadata": {},
   "outputs": [
    {
     "name": "stdout",
     "output_type": "stream",
     "text": [
      "Inside function2\n"
     ]
    }
   ],
   "source": [
    "function2()"
   ]
  },
  {
   "cell_type": "code",
   "execution_count": 73,
   "id": "ffa2d275",
   "metadata": {},
   "outputs": [],
   "source": [
    "def addfunction():\n",
    "    a=10\n",
    "    b=20\n",
    "    c=a+b\n",
    "    print(\"Addition of a and b is\",c)"
   ]
  },
  {
   "cell_type": "code",
   "execution_count": 74,
   "id": "ee36ea98",
   "metadata": {},
   "outputs": [
    {
     "name": "stdout",
     "output_type": "stream",
     "text": [
      "Addition of a and b is 30\n"
     ]
    }
   ],
   "source": [
    "addfunction()"
   ]
  },
  {
   "cell_type": "code",
   "execution_count": 75,
   "id": "ba7eba8c",
   "metadata": {},
   "outputs": [],
   "source": [
    "def addfunction():\n",
    "    ankit=10\n",
    "    devesh=20\n",
    "    total=ankit+devesh\n",
    "    print(\"Addition of ankit's classes and devesh classes is\",total)"
   ]
  },
  {
   "cell_type": "code",
   "execution_count": 76,
   "id": "9ebe1865",
   "metadata": {},
   "outputs": [
    {
     "name": "stdout",
     "output_type": "stream",
     "text": [
      "Addition of ankit's classes and devesh classes is 30\n"
     ]
    }
   ],
   "source": [
    "addfunction()"
   ]
  },
  {
   "cell_type": "code",
   "execution_count": 77,
   "id": "18e80d59",
   "metadata": {},
   "outputs": [],
   "source": [
    "def multiplyfunction():\n",
    "    x=5\n",
    "    y=4\n",
    "    z=x*y\n",
    "    print(\"multiply of\",x,'and',y,'=',z)"
   ]
  },
  {
   "cell_type": "code",
   "execution_count": 80,
   "id": "e8aafbc7",
   "metadata": {},
   "outputs": [
    {
     "name": "stdout",
     "output_type": "stream",
     "text": [
      "multiply of 5 and 4 = 20\n"
     ]
    }
   ],
   "source": [
    "multiplyfunction()"
   ]
  },
  {
   "cell_type": "code",
   "execution_count": 85,
   "id": "8c0b57ed",
   "metadata": {},
   "outputs": [],
   "source": [
    "def multiplyfunction():\n",
    "    delhi=50\n",
    "    goa=400\n",
    "    delhigoa=delhi*goa\n",
    "    print(\"multiply of\",delhi,'and',goa,'=',delhigoa)"
   ]
  },
  {
   "cell_type": "code",
   "execution_count": 89,
   "id": "2471df85",
   "metadata": {},
   "outputs": [
    {
     "name": "stdout",
     "output_type": "stream",
     "text": [
      "multiply of 50 and 400 = 20000\n"
     ]
    }
   ],
   "source": [
    "multiplyfunction()"
   ]
  },
  {
   "cell_type": "code",
   "execution_count": 96,
   "id": "ee6a9227",
   "metadata": {},
   "outputs": [],
   "source": [
    "def concatfunction():\n",
    "    str1='Data'\n",
    "    str2='Science'\n",
    "    str1+str2\n",
    "    print('String concatnation =')\n",
    "    print(str1+str2)"
   ]
  },
  {
   "cell_type": "code",
   "execution_count": 97,
   "id": "9e6a9838",
   "metadata": {},
   "outputs": [
    {
     "name": "stdout",
     "output_type": "stream",
     "text": [
      "String concatnation =\n",
      "DataScience\n"
     ]
    }
   ],
   "source": [
    "concatfunction()"
   ]
  },
  {
   "cell_type": "code",
   "execution_count": 100,
   "id": "19652687",
   "metadata": {},
   "outputs": [],
   "source": [
    "def concatfunction():\n",
    "    str1='Data'\n",
    "    str2='Science'\n",
    "    str1+str2\n",
    "    print('String concatnation =',str1+str2)\n"
   ]
  },
  {
   "cell_type": "code",
   "execution_count": 103,
   "id": "0a288690",
   "metadata": {},
   "outputs": [
    {
     "name": "stdout",
     "output_type": "stream",
     "text": [
      "String concatnation = DataScience\n"
     ]
    }
   ],
   "source": [
    "concatfunction()"
   ]
  },
  {
   "cell_type": "code",
   "execution_count": 101,
   "id": "eed937a7",
   "metadata": {},
   "outputs": [],
   "source": [
    "def concatfunction():\n",
    "    str1='Data'\n",
    "    str2='Science'\n",
    "    str1+str2\n",
    "    print('String concatnation =',end=\" \")\n",
    "    print(str1+str2)"
   ]
  },
  {
   "cell_type": "code",
   "execution_count": 95,
   "id": "07ea596b",
   "metadata": {},
   "outputs": [
    {
     "name": "stdout",
     "output_type": "stream",
     "text": [
      "String concatnation = DataScience\n"
     ]
    }
   ],
   "source": [
    "concatfunction()"
   ]
  },
  {
   "cell_type": "code",
   "execution_count": 104,
   "id": "72141634",
   "metadata": {},
   "outputs": [],
   "source": [
    "#function defination\n",
    "def area_of_rectangle_function():\n",
    "    a=70\n",
    "    b=8\n",
    "    c=a*b\n",
    "    print('Area of rectangle =',c)"
   ]
  },
  {
   "cell_type": "code",
   "execution_count": 105,
   "id": "56197d6a",
   "metadata": {},
   "outputs": [
    {
     "name": "stdout",
     "output_type": "stream",
     "text": [
      "Area of rectangle = 560\n"
     ]
    }
   ],
   "source": [
    "area_of_rectangle_function() "
   ]
  },
  {
   "cell_type": "code",
   "execution_count": 112,
   "id": "ce99f5f0",
   "metadata": {},
   "outputs": [],
   "source": [
    "#function defination \n",
    "\n",
    "def circle_area_function():\n",
    "    radius=int(input(\"input the radius function\"))\n",
    "    pi=3.14\n",
    "    area=(pi*(radius**2))\n",
    "    print('The area of circle with radius',radius,'is',area)"
   ]
  },
  {
   "cell_type": "code",
   "execution_count": 113,
   "id": "e09e1442",
   "metadata": {},
   "outputs": [
    {
     "name": "stdout",
     "output_type": "stream",
     "text": [
      "input the radius function10\n",
      "The area of circle with radius 10 is 314.0\n"
     ]
    }
   ],
   "source": [
    "#function calling\n",
    "\n",
    "circle_area_function()"
   ]
  },
  {
   "cell_type": "code",
   "execution_count": 114,
   "id": "a8bfd85f",
   "metadata": {},
   "outputs": [
    {
     "name": "stdout",
     "output_type": "stream",
     "text": [
      "Enter the country nameindia\n"
     ]
    },
    {
     "data": {
      "text/plain": [
       "'india'"
      ]
     },
     "execution_count": 114,
     "metadata": {},
     "output_type": "execute_result"
    }
   ],
   "source": [
    "input('Enter the country name')"
   ]
  },
  {
   "cell_type": "code",
   "execution_count": 132,
   "id": "2b267e22",
   "metadata": {},
   "outputs": [],
   "source": [
    "#function defination \n",
    "def area_of_Square():\n",
    "    side=int(input(\"Enter the value of side\"))\n",
    "    area= side*side\n",
    "    print('The area of square of side',side,'is',area)"
   ]
  },
  {
   "cell_type": "code",
   "execution_count": 133,
   "id": "0bbc4fd8",
   "metadata": {},
   "outputs": [
    {
     "name": "stdout",
     "output_type": "stream",
     "text": [
      "Enter the value of side12\n",
      "The area of square of side 12 is 144\n"
     ]
    }
   ],
   "source": [
    "#function calling\n",
    "\n",
    "area_of_Square()"
   ]
  },
  {
   "cell_type": "code",
   "execution_count": null,
   "id": "5e20e6ed",
   "metadata": {},
   "outputs": [],
   "source": []
  },
  {
   "cell_type": "markdown",
   "id": "f5359b10",
   "metadata": {},
   "source": [
    "### Functions with parameters"
   ]
  },
  {
   "cell_type": "code",
   "execution_count": 134,
   "id": "44bcc085",
   "metadata": {},
   "outputs": [],
   "source": [
    "def addition_function_with_parameters(a,b):\n",
    "    c=a+b\n",
    "    print('The value =',c)"
   ]
  },
  {
   "cell_type": "markdown",
   "id": "a59c4633",
   "metadata": {},
   "source": [
    "addition_function_with_parameters(y,z)"
   ]
  },
  {
   "cell_type": "code",
   "execution_count": 141,
   "id": "151c5cc0",
   "metadata": {},
   "outputs": [
    {
     "name": "stdout",
     "output_type": "stream",
     "text": [
      "The value = 30\n"
     ]
    }
   ],
   "source": [
    "addition_function_with_parameters(10,20)"
   ]
  },
  {
   "cell_type": "code",
   "execution_count": 142,
   "id": "782f1c56",
   "metadata": {},
   "outputs": [],
   "source": [
    "def subtract_func(x,y):\n",
    "    z=x-y\n",
    "    print('The value of z =',z)"
   ]
  },
  {
   "cell_type": "code",
   "execution_count": 144,
   "id": "f971f1d7",
   "metadata": {},
   "outputs": [
    {
     "name": "stdout",
     "output_type": "stream",
     "text": [
      "The value of z = 170\n"
     ]
    }
   ],
   "source": [
    "subtract_func(300,130)"
   ]
  },
  {
   "cell_type": "code",
   "execution_count": 145,
   "id": "0dfee9d5",
   "metadata": {},
   "outputs": [],
   "source": [
    "def addfunc(a,b,c):\n",
    "    add=a+b+c\n",
    "    print('addition',add)"
   ]
  },
  {
   "cell_type": "code",
   "execution_count": 146,
   "id": "a6dc25b6",
   "metadata": {},
   "outputs": [
    {
     "name": "stdout",
     "output_type": "stream",
     "text": [
      "addition 50\n"
     ]
    }
   ],
   "source": [
    "addfunc(10,20,20)"
   ]
  },
  {
   "cell_type": "code",
   "execution_count": 147,
   "id": "5001540c",
   "metadata": {},
   "outputs": [],
   "source": [
    "def runfunc():\n",
    "    print('Inside function')\n",
    "    for i in [1,2,4,8,16,32,64]:\n",
    "        print(i)"
   ]
  },
  {
   "cell_type": "code",
   "execution_count": 148,
   "id": "b405ae9f",
   "metadata": {},
   "outputs": [
    {
     "name": "stdout",
     "output_type": "stream",
     "text": [
      "Inside function\n",
      "1\n",
      "2\n",
      "4\n",
      "8\n",
      "16\n",
      "32\n",
      "64\n"
     ]
    }
   ],
   "source": [
    "runfunc()"
   ]
  },
  {
   "cell_type": "code",
   "execution_count": 149,
   "id": "37bd76eb",
   "metadata": {},
   "outputs": [],
   "source": [
    "def outsidefunction():\n",
    "    print('outside function')\n",
    "    runfunc()"
   ]
  },
  {
   "cell_type": "code",
   "execution_count": 150,
   "id": "6018c394",
   "metadata": {},
   "outputs": [
    {
     "name": "stdout",
     "output_type": "stream",
     "text": [
      "outside function\n",
      "Inside function\n",
      "1\n",
      "2\n",
      "4\n",
      "8\n",
      "16\n",
      "32\n",
      "64\n"
     ]
    }
   ],
   "source": [
    "outsidefunction()"
   ]
  },
  {
   "cell_type": "code",
   "execution_count": 151,
   "id": "bfdebfcd",
   "metadata": {},
   "outputs": [],
   "source": [
    "def addition_function(a,b):\n",
    "    c=a+b\n",
    "    print('The value =',c)"
   ]
  },
  {
   "cell_type": "code",
   "execution_count": 153,
   "id": "7cad0572",
   "metadata": {},
   "outputs": [
    {
     "name": "stdout",
     "output_type": "stream",
     "text": [
      "Enter the value of x=12\n",
      "Enter the value of y=13\n",
      "The value = 25\n"
     ]
    }
   ],
   "source": [
    "x=int(input('Enter the value of x='))\n",
    "y=int(input('Enter the value of y='))\n",
    "\n",
    "#Function calling\n",
    "addition_function(x,y)"
   ]
  },
  {
   "cell_type": "code",
   "execution_count": 166,
   "id": "7b0ae899",
   "metadata": {},
   "outputs": [],
   "source": [
    "def add():\n",
    "    u=4\n",
    "    p=5\n",
    "    t=u+p\n",
    "    print(\"add of\",u,'and', p, 'is',t)"
   ]
  },
  {
   "cell_type": "code",
   "execution_count": 167,
   "id": "c9f4089f",
   "metadata": {},
   "outputs": [
    {
     "name": "stdout",
     "output_type": "stream",
     "text": [
      "add of 4 and 5 is 9\n"
     ]
    }
   ],
   "source": [
    "add()"
   ]
  },
  {
   "cell_type": "code",
   "execution_count": 168,
   "id": "e836008e",
   "metadata": {},
   "outputs": [],
   "source": [
    "def addfun(a,b):\n",
    "    c=a+b\n",
    "    print('sum of a and b is',c)"
   ]
  },
  {
   "cell_type": "code",
   "execution_count": 170,
   "id": "1a2e24de",
   "metadata": {},
   "outputs": [
    {
     "name": "stdout",
     "output_type": "stream",
     "text": [
      "sum of a and b is 300\n"
     ]
    }
   ],
   "source": [
    "addfun(100,200)"
   ]
  },
  {
   "cell_type": "code",
   "execution_count": null,
   "id": "dd3732b5",
   "metadata": {},
   "outputs": [],
   "source": []
  }
 ],
 "metadata": {
  "kernelspec": {
   "display_name": "Python 3 (ipykernel)",
   "language": "python",
   "name": "python3"
  },
  "language_info": {
   "codemirror_mode": {
    "name": "ipython",
    "version": 3
   },
   "file_extension": ".py",
   "mimetype": "text/x-python",
   "name": "python",
   "nbconvert_exporter": "python",
   "pygments_lexer": "ipython3",
   "version": "3.9.7"
  }
 },
 "nbformat": 4,
 "nbformat_minor": 5
}
