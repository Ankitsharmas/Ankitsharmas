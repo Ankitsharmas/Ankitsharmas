{
 "cells": [
  {
   "cell_type": "markdown",
   "id": "6ae656f5",
   "metadata": {},
   "source": [
    "# Data structure (Set)"
   ]
  },
  {
   "cell_type": "markdown",
   "id": "e8b6a1b5",
   "metadata": {},
   "source": [
    "a python set is the collection of unordered items. each elements in the set must be unique, immutable , and the set remove the\n",
    "duplicate elements. set are immutable which means we can not modify if after creation.\n",
    "unlike order collection in pyton, there is no index attached to the elements of the set, i.e., we cannot directly access\n",
    "any element of the set by the index. however we can print them all together , or we can get the list of elements by looping \n",
    "through the set\n",
    "1. sets don't follow indexing 2.\n",
    "2. random data organisation \n",
    "3. no duplication in sets\n",
    "4. inmutable"
   ]
  },
  {
   "cell_type": "code",
   "execution_count": 16,
   "id": "77061308",
   "metadata": {},
   "outputs": [
    {
     "data": {
      "text/plain": [
       "{22, 33, 45, 67, 98}"
      ]
     },
     "execution_count": 16,
     "metadata": {},
     "output_type": "execute_result"
    }
   ],
   "source": [
    "a={22,33,67,98,45,22}\n",
    "a"
   ]
  },
  {
   "cell_type": "code",
   "execution_count": 17,
   "id": "edd54d42",
   "metadata": {},
   "outputs": [
    {
     "data": {
      "text/plain": [
       "{33, 44, 55, 66, 77}"
      ]
     },
     "execution_count": 17,
     "metadata": {},
     "output_type": "execute_result"
    }
   ],
   "source": [
    "y=set([33,44,55,66,77,44])\n",
    "y"
   ]
  },
  {
   "cell_type": "code",
   "execution_count": 18,
   "id": "0e5427b3",
   "metadata": {},
   "outputs": [
    {
     "data": {
      "text/plain": [
       "{22, 33, 44, 55}"
      ]
     },
     "execution_count": 18,
     "metadata": {},
     "output_type": "execute_result"
    }
   ],
   "source": [
    "a={22,33,44,55,22,44}\n",
    "a"
   ]
  },
  {
   "cell_type": "code",
   "execution_count": 19,
   "id": "db35f569",
   "metadata": {},
   "outputs": [],
   "source": [
    "bike={\"hero\",\"honda\",\"bajaj\"}"
   ]
  },
  {
   "cell_type": "code",
   "execution_count": 20,
   "id": "8aa7048d",
   "metadata": {},
   "outputs": [
    {
     "data": {
      "text/plain": [
       "{'bajaj', 'hero', 'honda'}"
      ]
     },
     "execution_count": 20,
     "metadata": {},
     "output_type": "execute_result"
    }
   ],
   "source": [
    "bike"
   ]
  },
  {
   "cell_type": "code",
   "execution_count": 21,
   "id": "b8efb3bb",
   "metadata": {},
   "outputs": [
    {
     "data": {
      "text/plain": [
       "set"
      ]
     },
     "execution_count": 21,
     "metadata": {},
     "output_type": "execute_result"
    }
   ],
   "source": [
    "type(bike)"
   ]
  },
  {
   "cell_type": "code",
   "execution_count": 22,
   "id": "53143160",
   "metadata": {},
   "outputs": [],
   "source": [
    "bike.add(\"yamaha\")"
   ]
  },
  {
   "cell_type": "code",
   "execution_count": 23,
   "id": "06ce7644",
   "metadata": {},
   "outputs": [
    {
     "data": {
      "text/plain": [
       "{'bajaj', 'hero', 'honda', 'yamaha'}"
      ]
     },
     "execution_count": 23,
     "metadata": {},
     "output_type": "execute_result"
    }
   ],
   "source": [
    "bike"
   ]
  },
  {
   "cell_type": "code",
   "execution_count": 24,
   "id": "12879ac4",
   "metadata": {},
   "outputs": [
    {
     "ename": "TypeError",
     "evalue": "'set' object is not subscriptable",
     "output_type": "error",
     "traceback": [
      "\u001b[1;31m---------------------------------------------------------------------------\u001b[0m",
      "\u001b[1;31mTypeError\u001b[0m                                 Traceback (most recent call last)",
      "\u001b[1;32m~\\AppData\\Local\\Temp/ipykernel_3084/784508805.py\u001b[0m in \u001b[0;36m<module>\u001b[1;34m\u001b[0m\n\u001b[1;32m----> 1\u001b[1;33m \u001b[0mprint\u001b[0m\u001b[1;33m(\u001b[0m\u001b[0mbike\u001b[0m\u001b[1;33m[\u001b[0m\u001b[1;36m1\u001b[0m\u001b[1;33m]\u001b[0m\u001b[1;33m)\u001b[0m\u001b[1;33m\u001b[0m\u001b[1;33m\u001b[0m\u001b[0m\n\u001b[0m",
      "\u001b[1;31mTypeError\u001b[0m: 'set' object is not subscriptable"
     ]
    }
   ],
   "source": [
    "print(bike[1])"
   ]
  },
  {
   "cell_type": "code",
   "execution_count": null,
   "id": "b1a11e33",
   "metadata": {},
   "outputs": [],
   "source": [
    "bike[1]=100"
   ]
  },
  {
   "cell_type": "markdown",
   "id": "3ef48aed",
   "metadata": {},
   "source": [
    "set over"
   ]
  },
  {
   "cell_type": "code",
   "execution_count": null,
   "id": "fe102aeb",
   "metadata": {},
   "outputs": [],
   "source": [
    "s=set([11,22,33,11])"
   ]
  },
  {
   "cell_type": "code",
   "execution_count": 25,
   "id": "7594f702",
   "metadata": {},
   "outputs": [
    {
     "data": {
      "text/plain": [
       "{11, 22, 33}"
      ]
     },
     "execution_count": 25,
     "metadata": {},
     "output_type": "execute_result"
    }
   ],
   "source": [
    "s"
   ]
  },
  {
   "cell_type": "markdown",
   "id": "3600ca4e",
   "metadata": {},
   "source": [
    "# Loops"
   ]
  },
  {
   "cell_type": "code",
   "execution_count": 38,
   "id": "529fbf74",
   "metadata": {},
   "outputs": [
    {
     "name": "stdout",
     "output_type": "stream",
     "text": [
      "0\n",
      "3\n",
      "6\n",
      "9\n",
      "12\n",
      "15\n",
      "18\n",
      "21\n",
      "24\n",
      "27\n"
     ]
    }
   ],
   "source": [
    "#initilization \n",
    "\n",
    "i=0\n",
    "\n",
    "#condition\n",
    "\n",
    "while(i<30):\n",
    "    print(i)\n",
    "    i=i+3  #increment"
   ]
  },
  {
   "cell_type": "code",
   "execution_count": 44,
   "id": "c80bbecb",
   "metadata": {},
   "outputs": [
    {
     "name": "stdout",
     "output_type": "stream",
     "text": [
      "5\n",
      "8\n",
      "11\n",
      "14\n",
      "17\n",
      "20\n",
      "23\n",
      "26\n",
      "29\n"
     ]
    }
   ],
   "source": [
    "#initilization \n",
    "\n",
    "i=5\n",
    "\n",
    "#condition\n",
    "\n",
    "while(i<30):\n",
    "    print(i)\n",
    "    i=i+3  #increment"
   ]
  },
  {
   "cell_type": "code",
   "execution_count": 46,
   "id": "61c00ef3",
   "metadata": {},
   "outputs": [],
   "source": [
    "#initilization \n",
    "\n",
    "i=15\n",
    "\n",
    "#condition\n",
    "\n",
    "while(i<5):\n",
    "    print(i)\n",
    "    i=i+3  #increment"
   ]
  },
  {
   "cell_type": "code",
   "execution_count": 59,
   "id": "c2c66966",
   "metadata": {},
   "outputs": [
    {
     "name": "stdout",
     "output_type": "stream",
     "text": [
      "2 4 6 8 10 12 "
     ]
    }
   ],
   "source": [
    "a=2\n",
    "while(a<14):\n",
    "    print(a,end=\" \")  #end=\" \" for horizontal parameter\n",
    "    a=a+2"
   ]
  },
  {
   "cell_type": "code",
   "execution_count": 58,
   "id": "8fd90c42",
   "metadata": {},
   "outputs": [
    {
     "data": {
      "text/plain": [
       "14"
      ]
     },
     "execution_count": 58,
     "metadata": {},
     "output_type": "execute_result"
    }
   ],
   "source": [
    "a"
   ]
  },
  {
   "cell_type": "code",
   "execution_count": 67,
   "id": "0ee65fa1",
   "metadata": {},
   "outputs": [
    {
     "name": "stdout",
     "output_type": "stream",
     "text": [
      "10 13 16 19 22 25 28 31 34 37 40 43 46 49 52 55 58 61 64 67 70 73 76 79 82 85 88 91 94 97 100 103 106 109 "
     ]
    }
   ],
   "source": [
    "s=10\n",
    "while(s<110):\n",
    "    print(s,end=\" \")\n",
    "    s=s+3"
   ]
  },
  {
   "cell_type": "code",
   "execution_count": 71,
   "id": "472eb9d2",
   "metadata": {},
   "outputs": [
    {
     "name": "stdout",
     "output_type": "stream",
     "text": [
      "1000 900 800 700 600 500 400 300 200 100 "
     ]
    }
   ],
   "source": [
    "s=1000\n",
    "while(s>10):\n",
    "    print(s,end=\" \")\n",
    "    s=s-100"
   ]
  },
  {
   "cell_type": "code",
   "execution_count": 3,
   "id": "c7da49f3",
   "metadata": {},
   "outputs": [
    {
     "name": "stdout",
     "output_type": "stream",
     "text": [
      "s= 1000\n",
      "s= 900\n",
      "s= 800\n",
      "s= 700\n",
      "s= 600\n",
      "s= 500\n",
      "s= 400\n",
      "s= 300\n",
      "s= 200\n",
      "s= 100\n"
     ]
    }
   ],
   "source": [
    "s=1000\n",
    "while(s>10):\n",
    "    print(\"s=\",s)\n",
    "    s=s-100"
   ]
  },
  {
   "cell_type": "code",
   "execution_count": 22,
   "id": "0979a042",
   "metadata": {},
   "outputs": [
    {
     "name": "stdout",
     "output_type": "stream",
     "text": [
      "k= 1 Ankit,Dev\n",
      "Devesh\n",
      "k= 2 Ankit,Dev\n",
      "Devesh\n",
      "k= 3 Ankit,Dev\n",
      "Devesh\n",
      "k= 4 Ankit,Dev\n",
      "Devesh\n",
      "k= 5 Ankit,Dev\n",
      "Devesh\n",
      "k= 6 Ankit,Dev\n",
      "Devesh\n",
      "k= 7 Ankit,Dev\n",
      "Devesh\n",
      "k= 8 Ankit,Dev\n",
      "Devesh\n",
      "k= 9 Ankit,Dev\n",
      "Devesh\n"
     ]
    }
   ],
   "source": [
    "k=1\n",
    "while(k<10):\n",
    "    print(\"k=\",k,end=\" \")\n",
    "    k=k+1\n",
    "    print(\"Ankit,Dev\")\n",
    "    print(\"Devesh\")"
   ]
  },
  {
   "cell_type": "code",
   "execution_count": 11,
   "id": "c723baf2",
   "metadata": {},
   "outputs": [
    {
     "name": "stdout",
     "output_type": "stream",
     "text": [
      "k= 1\n",
      "end\n",
      "k= 2\n",
      "end\n",
      "k= 3\n",
      "end\n",
      "k= 4\n",
      "end\n",
      "k= 5\n",
      "end\n",
      "k= 6\n",
      "end\n",
      "k= 7\n",
      "end\n",
      "k= 8\n",
      "end\n",
      "k= 9\n",
      "end\n",
      "end of loop\n"
     ]
    }
   ],
   "source": [
    "k=1\n",
    "while(k<10):\n",
    "    print(\"k=\",k)\n",
    "    k=k+1\n",
    "    print(\"end\")\n",
    "    \n",
    "    \n",
    "print(\"end of loop\")  \n",
    "    "
   ]
  },
  {
   "cell_type": "markdown",
   "id": "af1ccf8f",
   "metadata": {},
   "source": [
    "# For Loop"
   ]
  },
  {
   "cell_type": "code",
   "execution_count": 13,
   "id": "e560ad5e",
   "metadata": {},
   "outputs": [
    {
     "name": "stdout",
     "output_type": "stream",
     "text": [
      "1\n",
      "2\n",
      "3\n",
      "4\n",
      "5\n"
     ]
    }
   ],
   "source": [
    "for i in [1,2,3,4,5]:\n",
    "    print(i)"
   ]
  },
  {
   "cell_type": "code",
   "execution_count": 16,
   "id": "5ed04b97",
   "metadata": {},
   "outputs": [
    {
     "name": "stdout",
     "output_type": "stream",
     "text": [
      "11\n",
      "32\n",
      "53\n",
      "64\n",
      "85\n"
     ]
    }
   ],
   "source": [
    "for i in [11,32,53,64,85]:\n",
    "    print(i)"
   ]
  },
  {
   "cell_type": "code",
   "execution_count": 17,
   "id": "8d96568b",
   "metadata": {},
   "outputs": [
    {
     "name": "stdout",
     "output_type": "stream",
     "text": [
      "11 32 53 64 85 "
     ]
    }
   ],
   "source": [
    "for i in [11,32,53,64,85]:\n",
    "    print(i,end=\" \")"
   ]
  },
  {
   "cell_type": "code",
   "execution_count": 25,
   "id": "a74b54d5",
   "metadata": {},
   "outputs": [
    {
     "name": "stdout",
     "output_type": "stream",
     "text": [
      "11.23\n",
      "32.43\n",
      "53.98\n",
      "64.12\n",
      "85.23\n"
     ]
    }
   ],
   "source": [
    "for i in [11.23,32.43,53.98,64.12,85.23]:\n",
    "    print(i)"
   ]
  },
  {
   "cell_type": "code",
   "execution_count": 24,
   "id": "be0dee14",
   "metadata": {},
   "outputs": [
    {
     "name": "stdout",
     "output_type": "stream",
     "text": [
      "11.23 32.43 53.98 64.12 85.23 "
     ]
    }
   ],
   "source": [
    "for i in [11.23,32.43,53.98,64.12,85.23]:\n",
    "    print(i,end=\" \")"
   ]
  },
  {
   "cell_type": "code",
   "execution_count": 32,
   "id": "b201fc77",
   "metadata": {},
   "outputs": [
    {
     "name": "stdout",
     "output_type": "stream",
     "text": [
      "ankit Rahul Dev "
     ]
    }
   ],
   "source": [
    "for i in [\"ankit\",\"Rahul\",\"Dev\"]:\n",
    "    print(i,end=\" \")"
   ]
  },
  {
   "cell_type": "code",
   "execution_count": 39,
   "id": "b5298253",
   "metadata": {},
   "outputs": [
    {
     "name": "stdout",
     "output_type": "stream",
     "text": [
      "22\n",
      "33\n",
      "44\n",
      "55\n",
      "66\n"
     ]
    }
   ],
   "source": [
    "list1=[22,33,44,55,66]\n",
    "\n",
    "for p in list1:\n",
    "    print(p)    "
   ]
  },
  {
   "cell_type": "code",
   "execution_count": 43,
   "id": "3a900be8",
   "metadata": {},
   "outputs": [
    {
     "name": "stdout",
     "output_type": "stream",
     "text": [
      "p= ankit p= ankit1 p= ankit2 "
     ]
    }
   ],
   "source": [
    "list1=[\"ankit\",\"ankit1\",\"ankit2\"]\n",
    "\n",
    "for p in list1:\n",
    "    print(\"p=\",p,end=\" \")"
   ]
  },
  {
   "cell_type": "code",
   "execution_count": 44,
   "id": "6cadf611",
   "metadata": {},
   "outputs": [
    {
     "name": "stdout",
     "output_type": "stream",
     "text": [
      "p= ankit\n",
      "p= ankit1\n",
      "p= ankit2\n"
     ]
    }
   ],
   "source": [
    "list1=[\"ankit\",\"ankit1\",\"ankit2\"]\n",
    "\n",
    "for p in list1:\n",
    "    print(\"p=\",p)"
   ]
  },
  {
   "cell_type": "markdown",
   "id": "d0189a9d",
   "metadata": {},
   "source": [
    "# Range"
   ]
  },
  {
   "cell_type": "code",
   "execution_count": 45,
   "id": "6f6db4be",
   "metadata": {},
   "outputs": [
    {
     "data": {
      "text/plain": [
       "range(0, 10)"
      ]
     },
     "execution_count": 45,
     "metadata": {},
     "output_type": "execute_result"
    }
   ],
   "source": [
    "range(10)"
   ]
  },
  {
   "cell_type": "code",
   "execution_count": 46,
   "id": "91317a2b",
   "metadata": {},
   "outputs": [
    {
     "data": {
      "text/plain": [
       "range(0, 6)"
      ]
     },
     "execution_count": 46,
     "metadata": {},
     "output_type": "execute_result"
    }
   ],
   "source": [
    "range(6)"
   ]
  },
  {
   "cell_type": "code",
   "execution_count": 47,
   "id": "a99ad299",
   "metadata": {},
   "outputs": [
    {
     "data": {
      "text/plain": [
       "range(0, 8)"
      ]
     },
     "execution_count": 47,
     "metadata": {},
     "output_type": "execute_result"
    }
   ],
   "source": [
    "range(8)"
   ]
  },
  {
   "cell_type": "code",
   "execution_count": 48,
   "id": "8094d7d7",
   "metadata": {},
   "outputs": [
    {
     "data": {
      "text/plain": [
       "[0, 1, 2, 3, 4, 5, 6, 7, 8, 9, 10, 11, 12, 13, 14, 15, 16, 17, 18]"
      ]
     },
     "execution_count": 48,
     "metadata": {},
     "output_type": "execute_result"
    }
   ],
   "source": [
    "list(range(19))"
   ]
  },
  {
   "cell_type": "code",
   "execution_count": 49,
   "id": "e275276b",
   "metadata": {},
   "outputs": [
    {
     "data": {
      "text/plain": [
       "[0, 1, 2, 3, 4, 5, 6, 7, 8, 9, 10]"
      ]
     },
     "execution_count": 49,
     "metadata": {},
     "output_type": "execute_result"
    }
   ],
   "source": [
    "list(range(11))"
   ]
  },
  {
   "cell_type": "code",
   "execution_count": 51,
   "id": "f74c24a2",
   "metadata": {},
   "outputs": [
    {
     "data": {
      "text/plain": [
       "[0, 1, 2, 3, 4, 5, 6, 7, 8, 9, 10]"
      ]
     },
     "execution_count": 51,
     "metadata": {},
     "output_type": "execute_result"
    }
   ],
   "source": [
    "k=list(range(11))\n",
    "k"
   ]
  },
  {
   "cell_type": "code",
   "execution_count": 52,
   "id": "7e21dea0",
   "metadata": {},
   "outputs": [
    {
     "data": {
      "text/plain": [
       "[0, 1, 2, 3, 4, 5, 6, 7, 8, 9, 10]"
      ]
     },
     "execution_count": 52,
     "metadata": {},
     "output_type": "execute_result"
    }
   ],
   "source": [
    "P=list(range(11))\n",
    "P"
   ]
  },
  {
   "cell_type": "code",
   "execution_count": 55,
   "id": "51290668",
   "metadata": {},
   "outputs": [
    {
     "name": "stdout",
     "output_type": "stream",
     "text": [
      "0 1 2 3 4 5 6 7 8 9 10 "
     ]
    }
   ],
   "source": [
    "for i in P:\n",
    "    print(i,end=\" \")"
   ]
  },
  {
   "cell_type": "code",
   "execution_count": 56,
   "id": "8aa51f79",
   "metadata": {},
   "outputs": [
    {
     "name": "stdout",
     "output_type": "stream",
     "text": [
      "0 1 2 3 4 5 6 7 "
     ]
    }
   ],
   "source": [
    "for i in range(8):\n",
    "    print(i,end=\" \")"
   ]
  },
  {
   "cell_type": "code",
   "execution_count": 57,
   "id": "0c73c52f",
   "metadata": {},
   "outputs": [
    {
     "data": {
      "text/plain": [
       "[2, 3, 4, 5, 6, 7, 8, 9]"
      ]
     },
     "execution_count": 57,
     "metadata": {},
     "output_type": "execute_result"
    }
   ],
   "source": [
    "list(range(2,10))"
   ]
  },
  {
   "cell_type": "code",
   "execution_count": 58,
   "id": "54bcd041",
   "metadata": {},
   "outputs": [
    {
     "data": {
      "text/plain": [
       "[13, 14, 15, 16, 17, 18, 19]"
      ]
     },
     "execution_count": 58,
     "metadata": {},
     "output_type": "execute_result"
    }
   ],
   "source": [
    "list(range(13,20))"
   ]
  },
  {
   "cell_type": "code",
   "execution_count": 60,
   "id": "63673ff7",
   "metadata": {},
   "outputs": [
    {
     "name": "stdout",
     "output_type": "stream",
     "text": [
      "2\n",
      "3\n",
      "4\n",
      "5\n",
      "6\n",
      "7\n",
      "8\n",
      "9\n"
     ]
    }
   ],
   "source": [
    "for x in range(2,10):\n",
    "    print(x)"
   ]
  },
  {
   "cell_type": "code",
   "execution_count": 61,
   "id": "dbee15b4",
   "metadata": {},
   "outputs": [
    {
     "name": "stdout",
     "output_type": "stream",
     "text": [
      "12 13 14 15 16 17 18 "
     ]
    }
   ],
   "source": [
    "for x in range(12,19):\n",
    "    print(x,end=\" \")"
   ]
  },
  {
   "cell_type": "code",
   "execution_count": 62,
   "id": "985c02e4",
   "metadata": {},
   "outputs": [
    {
     "data": {
      "text/plain": [
       "[0, 3, 6, 9, 12, 15, 18, 21, 24, 27]"
      ]
     },
     "execution_count": 62,
     "metadata": {},
     "output_type": "execute_result"
    }
   ],
   "source": [
    "list(range(0,30,3))"
   ]
  },
  {
   "cell_type": "code",
   "execution_count": 63,
   "id": "55000bd0",
   "metadata": {},
   "outputs": [
    {
     "data": {
      "text/plain": [
       "[0, 9, 18, 27]"
      ]
     },
     "execution_count": 63,
     "metadata": {},
     "output_type": "execute_result"
    }
   ],
   "source": [
    "list(range(0,30,9))"
   ]
  },
  {
   "cell_type": "code",
   "execution_count": 64,
   "id": "78936125",
   "metadata": {},
   "outputs": [
    {
     "data": {
      "text/plain": [
       "[0, 14, 28, 42, 56, 70, 84, 98, 112, 126]"
      ]
     },
     "execution_count": 64,
     "metadata": {},
     "output_type": "execute_result"
    }
   ],
   "source": [
    "list(range(0,130,14))"
   ]
  },
  {
   "cell_type": "code",
   "execution_count": 65,
   "id": "ae93ec18",
   "metadata": {},
   "outputs": [
    {
     "data": {
      "text/plain": [
       "[0, 14, 28, 42, 56, 70, 84, 98, 112, 126]"
      ]
     },
     "execution_count": 65,
     "metadata": {},
     "output_type": "execute_result"
    }
   ],
   "source": [
    "d=list(range(0,130,14))\n",
    "\n",
    "d"
   ]
  },
  {
   "cell_type": "code",
   "execution_count": 66,
   "id": "ee8fc33b",
   "metadata": {},
   "outputs": [
    {
     "name": "stdout",
     "output_type": "stream",
     "text": [
      "0\n",
      "14\n",
      "28\n",
      "42\n",
      "56\n",
      "70\n",
      "84\n",
      "98\n",
      "112\n",
      "126\n"
     ]
    }
   ],
   "source": [
    "for i in d:\n",
    "    print(i)"
   ]
  },
  {
   "cell_type": "code",
   "execution_count": 67,
   "id": "386cfcbb",
   "metadata": {},
   "outputs": [],
   "source": [
    "a=5+2"
   ]
  },
  {
   "cell_type": "code",
   "execution_count": 68,
   "id": "8f9ba996",
   "metadata": {},
   "outputs": [
    {
     "data": {
      "text/plain": [
       "7"
      ]
     },
     "execution_count": 68,
     "metadata": {},
     "output_type": "execute_result"
    }
   ],
   "source": [
    "a"
   ]
  },
  {
   "cell_type": "code",
   "execution_count": 75,
   "id": "afbe1a10",
   "metadata": {},
   "outputs": [
    {
     "data": {
      "text/plain": [
       "[5, 23, 41, 59, 77, 95]"
      ]
     },
     "execution_count": 75,
     "metadata": {},
     "output_type": "execute_result"
    }
   ],
   "source": [
    "list(range(5,100,18))"
   ]
  },
  {
   "cell_type": "code",
   "execution_count": null,
   "id": "70bc7768",
   "metadata": {},
   "outputs": [],
   "source": []
  },
  {
   "cell_type": "code",
   "execution_count": null,
   "id": "d77bb273",
   "metadata": {},
   "outputs": [],
   "source": []
  }
 ],
 "metadata": {
  "kernelspec": {
   "display_name": "Python 3 (ipykernel)",
   "language": "python",
   "name": "python3"
  },
  "language_info": {
   "codemirror_mode": {
    "name": "ipython",
    "version": 3
   },
   "file_extension": ".py",
   "mimetype": "text/x-python",
   "name": "python",
   "nbconvert_exporter": "python",
   "pygments_lexer": "ipython3",
   "version": "3.9.7"
  }
 },
 "nbformat": 4,
 "nbformat_minor": 5
}
