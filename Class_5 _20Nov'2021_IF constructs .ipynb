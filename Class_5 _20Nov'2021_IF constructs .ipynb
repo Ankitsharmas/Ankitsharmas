{
 "cells": [
  {
   "cell_type": "markdown",
   "id": "a56fd0a0",
   "metadata": {},
   "source": [
    "# Samplelist =[\",\",\",\",\"]"
   ]
  },
  {
   "cell_type": "markdown",
   "id": "a8445cf2",
   "metadata": {},
   "source": [
    "for x in samplelist:print(x)\n",
    "    \n",
    "lterating through a dictionary     \n",
    "    "
   ]
  },
  {
   "cell_type": "code",
   "execution_count": null,
   "id": "20df01fc",
   "metadata": {},
   "outputs": [],
   "source": [
    "#woking wuth the loops with dictionary "
   ]
  },
  {
   "cell_type": "code",
   "execution_count": 8,
   "id": "2abe91ac",
   "metadata": {},
   "outputs": [
    {
     "name": "stdout",
     "output_type": "stream",
     "text": [
      "1\n",
      "2\n",
      "3\n",
      "4\n"
     ]
    }
   ],
   "source": [
    "d={1:\"Ankit\", 2:\"Ram\",3:\"Shayam\",4:\"Chhotu\"}\n",
    "\n",
    "for k in d:\n",
    "    print(k)"
   ]
  },
  {
   "cell_type": "code",
   "execution_count": 12,
   "id": "f0fa397f",
   "metadata": {},
   "outputs": [
    {
     "name": "stdout",
     "output_type": "stream",
     "text": [
      "Ankit\n",
      "Ram\n",
      "Shayam\n",
      "chhotu\n"
     ]
    }
   ],
   "source": [
    "d={1:\"Ankit\", 2:\"Ram\",3:\"Shayam\",4:\"chhotu\"}\n",
    "\n",
    "for k in d:\n",
    "    print(d[k])"
   ]
  },
  {
   "cell_type": "code",
   "execution_count": 13,
   "id": "5448d75d",
   "metadata": {},
   "outputs": [
    {
     "name": "stdout",
     "output_type": "stream",
     "text": [
      "1 -> Ankit\n",
      "2 -> Ram\n",
      "3 -> Shayam\n",
      "4 -> chhotu\n"
     ]
    }
   ],
   "source": [
    "d={1:\"Ankit\", 2:\"Ram\",3:\"Shayam\",4:\"chhotu\"}\n",
    "\n",
    "for k in d:\n",
    "    print(k,\"->\",d[k])"
   ]
  },
  {
   "cell_type": "code",
   "execution_count": 16,
   "id": "9d350392",
   "metadata": {},
   "outputs": [
    {
     "name": "stdout",
     "output_type": "stream",
     "text": [
      "80 -> Ankit\n",
      "55 -> Ram\n",
      "99 -> Shayam\n",
      "4 -> chhotu\n"
     ]
    }
   ],
   "source": [
    "d={80:\"Ankit\", 55:\"Ram\",99:\"Shayam\",4:\"chhotu\"}\n",
    "\n",
    "for k in d:\n",
    "    print(k,\"->\",d[k])"
   ]
  },
  {
   "cell_type": "code",
   "execution_count": 19,
   "id": "4c8b820d",
   "metadata": {},
   "outputs": [
    {
     "name": "stdout",
     "output_type": "stream",
     "text": [
      "1 => books\n",
      "2 => copy\n",
      "3 => pen\n",
      "4 => pencil\n"
     ]
    }
   ],
   "source": [
    "shop={1:\"books\",2:\"copy\",3:\"pen\",4:\"pencil\"}\n",
    "for k in shop:\n",
    "    print(k,\"=>\",shop[k])"
   ]
  },
  {
   "cell_type": "markdown",
   "id": "a0939617",
   "metadata": {},
   "source": [
    "IF Constructs"
   ]
  },
  {
   "cell_type": "markdown",
   "id": "f3234597",
   "metadata": {},
   "source": [
    "== compaire sign"
   ]
  },
  {
   "cell_type": "code",
   "execution_count": 21,
   "id": "d914bb9a",
   "metadata": {},
   "outputs": [],
   "source": [
    "marks=90"
   ]
  },
  {
   "cell_type": "code",
   "execution_count": 22,
   "id": "55fade15",
   "metadata": {},
   "outputs": [
    {
     "data": {
      "text/plain": [
       "90"
      ]
     },
     "execution_count": 22,
     "metadata": {},
     "output_type": "execute_result"
    }
   ],
   "source": [
    "marks"
   ]
  },
  {
   "cell_type": "code",
   "execution_count": 23,
   "id": "75ef31a2",
   "metadata": {},
   "outputs": [
    {
     "name": "stdout",
     "output_type": "stream",
     "text": [
      "excellent\n"
     ]
    }
   ],
   "source": [
    "if marks>80:\n",
    "    print(\"excellent\")\n",
    "else:\n",
    "    print(\"good\")"
   ]
  },
  {
   "cell_type": "code",
   "execution_count": 24,
   "id": "ad8e6107",
   "metadata": {},
   "outputs": [
    {
     "name": "stdout",
     "output_type": "stream",
     "text": [
      "good\n"
     ]
    }
   ],
   "source": [
    "marks=40\n",
    "if marks>80:\n",
    "    print(\"excellent\")\n",
    "else:\n",
    "    print(\"good\")"
   ]
  },
  {
   "cell_type": "code",
   "execution_count": 36,
   "id": "c9507e10",
   "metadata": {},
   "outputs": [
    {
     "name": "stdout",
     "output_type": "stream",
     "text": [
      "even\n"
     ]
    }
   ],
   "source": [
    "fact=2\n",
    "num=12\n",
    "if num%fact==0:\n",
    "    print(\"even\")\n",
    "else:\n",
    "    print(\"odd\")"
   ]
  },
  {
   "cell_type": "code",
   "execution_count": 38,
   "id": "ba7bf52a",
   "metadata": {},
   "outputs": [
    {
     "name": "stdout",
     "output_type": "stream",
     "text": [
      "odd\n"
     ]
    }
   ],
   "source": [
    "fact=11\n",
    "num=12\n",
    "if num%fact==0:\n",
    "    print(\"even\")\n",
    "else:\n",
    "    print(\"odd\")"
   ]
  },
  {
   "cell_type": "code",
   "execution_count": 40,
   "id": "3129bbf5",
   "metadata": {},
   "outputs": [
    {
     "name": "stdout",
     "output_type": "stream",
     "text": [
      "odd\n"
     ]
    }
   ],
   "source": [
    "fact=10\n",
    "num=12\n",
    "if num%fact==1:\n",
    "    print(\"even\")\n",
    "else:\n",
    "    print(\"odd\")"
   ]
  },
  {
   "cell_type": "code",
   "execution_count": 41,
   "id": "efeed13a",
   "metadata": {},
   "outputs": [
    {
     "name": "stdout",
     "output_type": "stream",
     "text": [
      "even\n"
     ]
    }
   ],
   "source": [
    "fact=12\n",
    "num=37\n",
    "if num%fact==1:\n",
    "    print(\"even\")\n",
    "else:\n",
    "    print(\"odd\")"
   ]
  },
  {
   "cell_type": "code",
   "execution_count": 43,
   "id": "513f25ef",
   "metadata": {},
   "outputs": [
    {
     "name": "stdout",
     "output_type": "stream",
     "text": [
      "one\n"
     ]
    }
   ],
   "source": [
    "fact=12\n",
    "num=37\n",
    "if num%fact==1:\n",
    "    print(\"one\")\n",
    "else:\n",
    "    print(\"more than one\")"
   ]
  },
  {
   "cell_type": "code",
   "execution_count": 44,
   "id": "48619c4e",
   "metadata": {},
   "outputs": [
    {
     "name": "stdout",
     "output_type": "stream",
     "text": [
      "more than one\n"
     ]
    }
   ],
   "source": [
    "fact=12\n",
    "num=38\n",
    "if num%fact==1:\n",
    "    print(\"one\")\n",
    "else:\n",
    "    print(\"more than one\")"
   ]
  },
  {
   "cell_type": "code",
   "execution_count": 45,
   "id": "fa1b7197",
   "metadata": {},
   "outputs": [
    {
     "name": "stdout",
     "output_type": "stream",
     "text": [
      "more than one\n"
     ]
    }
   ],
   "source": [
    "fact=12\n",
    "num=39\n",
    "if num%fact==1:\n",
    "    print(\"one\")\n",
    "else:\n",
    "    print(\"more than one\")"
   ]
  },
  {
   "cell_type": "code",
   "execution_count": 47,
   "id": "1b270be5",
   "metadata": {},
   "outputs": [
    {
     "name": "stdout",
     "output_type": "stream",
     "text": [
      "Pass\n",
      "end\n"
     ]
    }
   ],
   "source": [
    "a=100\n",
    "if a>40:\n",
    "    print(\"Pass\")\n",
    "else:\n",
    "    print(\"fail\")\n",
    "print(\"end\")    "
   ]
  },
  {
   "cell_type": "code",
   "execution_count": 48,
   "id": "1e7a98b6",
   "metadata": {},
   "outputs": [
    {
     "name": "stdout",
     "output_type": "stream",
     "text": [
      "fail\n",
      "end\n"
     ]
    }
   ],
   "source": [
    "a=30\n",
    "if a>40:\n",
    "    print(\"Pass\")\n",
    "else:\n",
    "    print(\"fail\")\n",
    "print(\"end\")    "
   ]
  },
  {
   "cell_type": "code",
   "execution_count": 49,
   "id": "266ceb8c",
   "metadata": {},
   "outputs": [
    {
     "name": "stdout",
     "output_type": "stream",
     "text": [
      "enter the value23\n",
      "value of k is 23 odd number\n"
     ]
    }
   ],
   "source": [
    "k=int(input(\"enter the value\"))\n",
    "\n",
    "if k%2==0:\n",
    "    print(\"value of k is\",k,\"even number\")\n",
    "else:\n",
    "    print(\"value of k is\",k,\"odd number\")"
   ]
  },
  {
   "cell_type": "code",
   "execution_count": 50,
   "id": "d6804b86",
   "metadata": {},
   "outputs": [
    {
     "name": "stdout",
     "output_type": "stream",
     "text": [
      "enter the value12876\n",
      "value of k is 12876 even number\n"
     ]
    }
   ],
   "source": [
    "k=int(input(\"enter the value\"))\n",
    "\n",
    "if k%2==0:\n",
    "    print(\"value of k is\",k,\"even number\")\n",
    "else:\n",
    "    print(\"value of k is\",k,\"odd number\")"
   ]
  },
  {
   "cell_type": "code",
   "execution_count": 51,
   "id": "8a2e7fa5",
   "metadata": {},
   "outputs": [
    {
     "name": "stdout",
     "output_type": "stream",
     "text": [
      "enter the value987653\n",
      "value of k is 987653 odd number\n"
     ]
    }
   ],
   "source": [
    "k=int(input(\"enter the value\"))\n",
    "\n",
    "if k%2==0:\n",
    "    print(\"value of k is\",k,\"even number\")\n",
    "else:\n",
    "    print(\"value of k is\",k,\"odd number\")"
   ]
  },
  {
   "cell_type": "code",
   "execution_count": 52,
   "id": "84afb8c9",
   "metadata": {},
   "outputs": [
    {
     "name": "stdout",
     "output_type": "stream",
     "text": [
      "enter the value3333\n",
      "value of k is 3333 even number\n"
     ]
    }
   ],
   "source": [
    "k=int(input(\"enter the value\"))\n",
    "\n",
    "if k%3==0:\n",
    "    print(\"value of k is\",k,\"even number\")\n",
    "else:\n",
    "    print(\"value of k is\",k,\"odd number\")"
   ]
  },
  {
   "cell_type": "code",
   "execution_count": 55,
   "id": "d49bb0ac",
   "metadata": {},
   "outputs": [
    {
     "ename": "SyntaxError",
     "evalue": "invalid syntax (Temp/ipykernel_2240/2249750971.py, line 2)",
     "output_type": "error",
     "traceback": [
      "\u001b[1;36m  File \u001b[1;32m\"C:\\Users\\DELL\\AppData\\Local\\Temp/ipykernel_2240/2249750971.py\"\u001b[1;36m, line \u001b[1;32m2\u001b[0m\n\u001b[1;33m    if marks=80:\u001b[0m\n\u001b[1;37m            ^\u001b[0m\n\u001b[1;31mSyntaxError\u001b[0m\u001b[1;31m:\u001b[0m invalid syntax\n"
     ]
    }
   ],
   "source": []
  },
  {
   "cell_type": "code",
   "execution_count": 58,
   "id": "8a12c399",
   "metadata": {},
   "outputs": [
    {
     "name": "stdout",
     "output_type": "stream",
     "text": [
      "enter the value8\n",
      "value of k is 8 odd number\n"
     ]
    }
   ],
   "source": [
    "k=int(input(\"enter the value\"))\n",
    "\n",
    "if k%3==0:\n",
    "    print(\"value of k is\",k,\"even number\")\n",
    "else:\n",
    "    print(\"value of k is\",k,\"odd number\")"
   ]
  },
  {
   "cell_type": "markdown",
   "id": "c111bd89",
   "metadata": {},
   "source": [
    "Break & continue statment"
   ]
  },
  {
   "cell_type": "code",
   "execution_count": 61,
   "id": "a4c5b23f",
   "metadata": {},
   "outputs": [
    {
     "name": "stdout",
     "output_type": "stream",
     "text": [
      "apple\n",
      "banana\n",
      "orange\n",
      "mango\n"
     ]
    }
   ],
   "source": [
    "for i in ['apple','banana','orange','mango']:\n",
    "    print(i)"
   ]
  },
  {
   "cell_type": "code",
   "execution_count": 64,
   "id": "46e0e5f0",
   "metadata": {},
   "outputs": [
    {
     "name": "stdout",
     "output_type": "stream",
     "text": [
      "apple\n",
      "banana\n"
     ]
    }
   ],
   "source": [
    "for i in ['apple','banana','orange','mango']:\n",
    "    if i=='orange':\n",
    "        break\n",
    "    print(i)"
   ]
  },
  {
   "cell_type": "code",
   "execution_count": 65,
   "id": "9cf261ae",
   "metadata": {},
   "outputs": [
    {
     "name": "stdout",
     "output_type": "stream",
     "text": [
      "apple\n",
      "banana\n",
      "orange\n"
     ]
    }
   ],
   "source": [
    "for i in ['apple','banana','orange','mango']:\n",
    "    if i=='mango':\n",
    "        break\n",
    "    print(i)"
   ]
  },
  {
   "cell_type": "code",
   "execution_count": 67,
   "id": "ed46a3aa",
   "metadata": {},
   "outputs": [
    {
     "name": "stdout",
     "output_type": "stream",
     "text": [
      "apple\n",
      "orange\n",
      "mango\n"
     ]
    }
   ],
   "source": [
    "for i in ['apple','banana','orange','mango']:\n",
    "    if i=='banana':\n",
    "        continue\n",
    "    print(i)"
   ]
  },
  {
   "cell_type": "code",
   "execution_count": 74,
   "id": "ba0f0990",
   "metadata": {},
   "outputs": [
    {
     "name": "stdout",
     "output_type": "stream",
     "text": [
      "10\n",
      "20\n",
      "30\n",
      "40\n"
     ]
    }
   ],
   "source": [
    "x=[10,20,30,40]\n",
    "for i in x:\n",
    "    if i>3:\n",
    "        print(i)"
   ]
  },
  {
   "cell_type": "code",
   "execution_count": 84,
   "id": "3ef54585",
   "metadata": {},
   "outputs": [
    {
     "name": "stdout",
     "output_type": "stream",
     "text": [
      "[1, 2, 3, 4, 5, 6]\n"
     ]
    }
   ],
   "source": [
    "list1=[1,2,3,4,5,6]\n",
    "m=[d for d in list1]\n",
    "print(m)\n"
   ]
  },
  {
   "cell_type": "code",
   "execution_count": 85,
   "id": "3f43cf7a",
   "metadata": {},
   "outputs": [
    {
     "name": "stdout",
     "output_type": "stream",
     "text": [
      "[1, 2, 3, 4, 5, 6, 7, 8, 9]\n"
     ]
    }
   ],
   "source": [
    "data=[1,2,3,4,5,6,7,8,9]\n",
    "m=[d for d in data]\n",
    "print(m)"
   ]
  },
  {
   "cell_type": "code",
   "execution_count": 87,
   "id": "a17f4c34",
   "metadata": {},
   "outputs": [
    {
     "name": "stdout",
     "output_type": "stream",
     "text": [
      "[3, 6, 9]\n"
     ]
    }
   ],
   "source": [
    "data=[1,2,3,4,5,6,7,8,9]\n",
    "m=[d for d in data if d%3==0]\n",
    "print(m)"
   ]
  },
  {
   "cell_type": "code",
   "execution_count": 88,
   "id": "42ca3c05",
   "metadata": {},
   "outputs": [
    {
     "name": "stdout",
     "output_type": "stream",
     "text": [
      "[2, 4, 6, 8]\n"
     ]
    }
   ],
   "source": [
    "data=[1,2,3,4,5,6,7,8,9]\n",
    "m=[d for d in data if d%2==0]\n",
    "print(m)"
   ]
  },
  {
   "cell_type": "code",
   "execution_count": 89,
   "id": "90551914",
   "metadata": {},
   "outputs": [
    {
     "name": "stdout",
     "output_type": "stream",
     "text": [
      "[1, 3, 5, 7, 9]\n"
     ]
    }
   ],
   "source": [
    "data=[1,2,3,4,5,6,7,8,9]\n",
    "m=[d for d in data if d%2==1]\n",
    "print(m)"
   ]
  },
  {
   "cell_type": "code",
   "execution_count": 92,
   "id": "0eb1dbee",
   "metadata": {},
   "outputs": [
    {
     "data": {
      "text/plain": [
       "[0, 5, 10, 15, 20, 25]"
      ]
     },
     "execution_count": 92,
     "metadata": {},
     "output_type": "execute_result"
    }
   ],
   "source": [
    "p=[d for d in range(0,30,5)]\n",
    "p"
   ]
  },
  {
   "cell_type": "code",
   "execution_count": 95,
   "id": "ec4d18da",
   "metadata": {},
   "outputs": [
    {
     "data": {
      "text/plain": [
       "[1, 2, 3]"
      ]
     },
     "execution_count": 95,
     "metadata": {},
     "output_type": "execute_result"
    }
   ],
   "source": [
    "dic={1:'a',2:'b',3:'c'}\n",
    "s= [v for v in dic]\n",
    "s"
   ]
  },
  {
   "cell_type": "markdown",
   "id": "6766aa7f",
   "metadata": {},
   "source": [
    "# String function Final"
   ]
  },
  {
   "cell_type": "code",
   "execution_count": 96,
   "id": "1b10b943",
   "metadata": {},
   "outputs": [],
   "source": [
    "word='WELCOME To python'"
   ]
  },
  {
   "cell_type": "code",
   "execution_count": 97,
   "id": "58dc7e05",
   "metadata": {},
   "outputs": [
    {
     "data": {
      "text/plain": [
       "'WELCOME To python'"
      ]
     },
     "execution_count": 97,
     "metadata": {},
     "output_type": "execute_result"
    }
   ],
   "source": [
    "word"
   ]
  },
  {
   "cell_type": "code",
   "execution_count": 98,
   "id": "1da76efe",
   "metadata": {},
   "outputs": [
    {
     "data": {
      "text/plain": [
       "'welcome tO PYTHON'"
      ]
     },
     "execution_count": 98,
     "metadata": {},
     "output_type": "execute_result"
    }
   ],
   "source": [
    "word.swapcase()"
   ]
  },
  {
   "cell_type": "code",
   "execution_count": 99,
   "id": "aec902d0",
   "metadata": {},
   "outputs": [
    {
     "data": {
      "text/plain": [
       "'welcome to python'"
      ]
     },
     "execution_count": 99,
     "metadata": {},
     "output_type": "execute_result"
    }
   ],
   "source": [
    "word.lower()"
   ]
  },
  {
   "cell_type": "code",
   "execution_count": 100,
   "id": "4f5771fd",
   "metadata": {},
   "outputs": [
    {
     "data": {
      "text/plain": [
       "'welcome tO PYTHON'"
      ]
     },
     "execution_count": 100,
     "metadata": {},
     "output_type": "execute_result"
    }
   ],
   "source": [
    "word.swapcase()"
   ]
  },
  {
   "cell_type": "code",
   "execution_count": 101,
   "id": "9cb28325",
   "metadata": {},
   "outputs": [
    {
     "data": {
      "text/plain": [
       "['WELCOME', 'To', 'python']"
      ]
     },
     "execution_count": 101,
     "metadata": {},
     "output_type": "execute_result"
    }
   ],
   "source": [
    "word.split()"
   ]
  },
  {
   "cell_type": "code",
   "execution_count": 102,
   "id": "9db55f51",
   "metadata": {},
   "outputs": [],
   "source": [
    "#word alphabetic"
   ]
  },
  {
   "cell_type": "code",
   "execution_count": 103,
   "id": "5b758a6a",
   "metadata": {},
   "outputs": [
    {
     "data": {
      "text/plain": [
       "'ABCDEFGHIJKLMNOPQRSTUVWXYZ'"
      ]
     },
     "execution_count": 103,
     "metadata": {},
     "output_type": "execute_result"
    }
   ],
   "source": [
    "p='abcdefghijklmnopqrstuvwxyz'\n",
    "p.upper()"
   ]
  },
  {
   "cell_type": "code",
   "execution_count": 105,
   "id": "f35985c3",
   "metadata": {},
   "outputs": [
    {
     "data": {
      "text/plain": [
       "True"
      ]
     },
     "execution_count": 105,
     "metadata": {},
     "output_type": "execute_result"
    }
   ],
   "source": [
    "word2='notebook'\n",
    "word2.islower()"
   ]
  },
  {
   "cell_type": "code",
   "execution_count": 106,
   "id": "66508be6",
   "metadata": {},
   "outputs": [
    {
     "data": {
      "text/plain": [
       "False"
      ]
     },
     "execution_count": 106,
     "metadata": {},
     "output_type": "execute_result"
    }
   ],
   "source": [
    "word2.isupper()"
   ]
  },
  {
   "cell_type": "code",
   "execution_count": 109,
   "id": "3d37f16e",
   "metadata": {},
   "outputs": [],
   "source": [
    "word3='ram is good boy'"
   ]
  },
  {
   "cell_type": "code",
   "execution_count": 111,
   "id": "d5ff5f4d",
   "metadata": {},
   "outputs": [
    {
     "data": {
      "text/plain": [
       "'Ram is good boy'"
      ]
     },
     "execution_count": 111,
     "metadata": {},
     "output_type": "execute_result"
    }
   ],
   "source": [
    "word3.capitalize()"
   ]
  },
  {
   "cell_type": "code",
   "execution_count": 112,
   "id": "a35fe3dc",
   "metadata": {},
   "outputs": [
    {
     "data": {
      "text/plain": [
       "'Ram Is Good Boy'"
      ]
     },
     "execution_count": 112,
     "metadata": {},
     "output_type": "execute_result"
    }
   ],
   "source": [
    "word3.title()"
   ]
  },
  {
   "cell_type": "code",
   "execution_count": 115,
   "id": "e22dee01",
   "metadata": {},
   "outputs": [
    {
     "data": {
      "text/plain": [
       "False"
      ]
     },
     "execution_count": 115,
     "metadata": {},
     "output_type": "execute_result"
    }
   ],
   "source": [
    "word4='ankit'\n",
    "word4.isdigit()"
   ]
  },
  {
   "cell_type": "code",
   "execution_count": 117,
   "id": "128c043c",
   "metadata": {},
   "outputs": [
    {
     "data": {
      "text/plain": [
       "True"
      ]
     },
     "execution_count": 117,
     "metadata": {},
     "output_type": "execute_result"
    }
   ],
   "source": [
    "word4='ankit'\n",
    "word4.isalnum()"
   ]
  },
  {
   "cell_type": "code",
   "execution_count": 122,
   "id": "6841af5a",
   "metadata": {},
   "outputs": [
    {
     "data": {
      "text/plain": [
       "True"
      ]
     },
     "execution_count": 122,
     "metadata": {},
     "output_type": "execute_result"
    }
   ],
   "source": [
    "word6='ankit9541'\n",
    "word6.isalnum()"
   ]
  },
  {
   "cell_type": "code",
   "execution_count": 120,
   "id": "c1fc154f",
   "metadata": {},
   "outputs": [
    {
     "data": {
      "text/plain": [
       "False"
      ]
     },
     "execution_count": 120,
     "metadata": {},
     "output_type": "execute_result"
    }
   ],
   "source": [
    "ww='23456'\n",
    "ww.isalpha()"
   ]
  },
  {
   "cell_type": "code",
   "execution_count": 121,
   "id": "f6aebde9",
   "metadata": {},
   "outputs": [
    {
     "data": {
      "text/plain": [
       "'hyperloop'"
      ]
     },
     "execution_count": 121,
     "metadata": {},
     "output_type": "execute_result"
    }
   ],
   "source": [
    "#string concatenation \n",
    "'hyper'+'loop'"
   ]
  },
  {
   "cell_type": "code",
   "execution_count": null,
   "id": "8ceaa534",
   "metadata": {},
   "outputs": [],
   "source": []
  }
 ],
 "metadata": {
  "kernelspec": {
   "display_name": "Python 3 (ipykernel)",
   "language": "python",
   "name": "python3"
  },
  "language_info": {
   "codemirror_mode": {
    "name": "ipython",
    "version": 3
   },
   "file_extension": ".py",
   "mimetype": "text/x-python",
   "name": "python",
   "nbconvert_exporter": "python",
   "pygments_lexer": "ipython3",
   "version": "3.9.7"
  }
 },
 "nbformat": 4,
 "nbformat_minor": 5
}
