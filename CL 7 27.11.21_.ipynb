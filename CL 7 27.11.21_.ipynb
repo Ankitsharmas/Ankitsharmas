{
 "cells": [
  {
   "cell_type": "markdown",
   "id": "7f7ff013",
   "metadata": {},
   "source": [
    "#Return function"
   ]
  },
  {
   "cell_type": "code",
   "execution_count": 1,
   "id": "9cca4a8a",
   "metadata": {},
   "outputs": [],
   "source": [
    "def multiplyfunc():\n",
    "    x=5\n",
    "    y=7\n",
    "    z=x*y\n",
    "    return z"
   ]
  },
  {
   "cell_type": "code",
   "execution_count": 3,
   "id": "5814ec57",
   "metadata": {},
   "outputs": [
    {
     "data": {
      "text/plain": [
       "35"
      ]
     },
     "execution_count": 3,
     "metadata": {},
     "output_type": "execute_result"
    }
   ],
   "source": [
    "multiplyfunc()"
   ]
  },
  {
   "cell_type": "code",
   "execution_count": 9,
   "id": "a127f087",
   "metadata": {},
   "outputs": [],
   "source": [
    "rz=multiplyfunc()"
   ]
  },
  {
   "cell_type": "code",
   "execution_count": 4,
   "id": "c3cff49c",
   "metadata": {},
   "outputs": [],
   "source": [
    "def functionadd_return(a,b):\n",
    "    c=a+b\n",
    "    return c"
   ]
  },
  {
   "cell_type": "code",
   "execution_count": 7,
   "id": "c2951d7f",
   "metadata": {},
   "outputs": [
    {
     "data": {
      "text/plain": [
       "5"
      ]
     },
     "execution_count": 7,
     "metadata": {},
     "output_type": "execute_result"
    }
   ],
   "source": [
    "rc=functionadd_return(2,3)\n",
    "rc"
   ]
  },
  {
   "cell_type": "code",
   "execution_count": 10,
   "id": "88d0c650",
   "metadata": {},
   "outputs": [
    {
     "data": {
      "text/plain": [
       "33"
      ]
     },
     "execution_count": 10,
     "metadata": {},
     "output_type": "execute_result"
    }
   ],
   "source": [
    "functionadd_return(11,22)"
   ]
  },
  {
   "cell_type": "code",
   "execution_count": 11,
   "id": "20dc0f03",
   "metadata": {},
   "outputs": [],
   "source": [
    "def run():\n",
    "    for x in range(10):\n",
    "        if x==5:\n",
    "            return\n",
    "        print(\"Ankit\")"
   ]
  },
  {
   "cell_type": "code",
   "execution_count": 12,
   "id": "dd5c5cb1",
   "metadata": {},
   "outputs": [
    {
     "name": "stdout",
     "output_type": "stream",
     "text": [
      "Ankit\n",
      "Ankit\n",
      "Ankit\n",
      "Ankit\n",
      "Ankit\n"
     ]
    }
   ],
   "source": [
    "run()"
   ]
  },
  {
   "cell_type": "code",
   "execution_count": 18,
   "id": "6ae9ce5a",
   "metadata": {},
   "outputs": [],
   "source": [
    "def run():\n",
    "    for x in range(11):\n",
    "        if x==9:\n",
    "            return\n",
    "        print(\"Ankit\")"
   ]
  },
  {
   "cell_type": "code",
   "execution_count": 17,
   "id": "b93f6394",
   "metadata": {},
   "outputs": [
    {
     "name": "stdout",
     "output_type": "stream",
     "text": [
      "Ankit\n",
      "Ankit\n",
      "Ankit\n",
      "Ankit\n",
      "Ankit\n",
      "Ankit\n",
      "Ankit\n",
      "Ankit\n"
     ]
    }
   ],
   "source": [
    "run()"
   ]
  },
  {
   "cell_type": "code",
   "execution_count": 19,
   "id": "21743be9",
   "metadata": {},
   "outputs": [],
   "source": [
    "def run2():\n",
    "    for i in range(30):\n",
    "        if i==15:\n",
    "            return\n",
    "        print(i,end=\" \")"
   ]
  },
  {
   "cell_type": "code",
   "execution_count": 20,
   "id": "bb5503c1",
   "metadata": {},
   "outputs": [
    {
     "name": "stdout",
     "output_type": "stream",
     "text": [
      "0 1 2 3 4 5 6 7 8 9 10 11 12 13 14 "
     ]
    }
   ],
   "source": [
    "run2()"
   ]
  },
  {
   "cell_type": "code",
   "execution_count": 21,
   "id": "94d698e1",
   "metadata": {},
   "outputs": [],
   "source": [
    "#function with return value \n",
    "\n",
    "def sumfunc(arg1, arg2):\n",
    "    #add both the parameters and return them\n",
    "    total = arg1+arg2\n",
    "    print('inside the function :',total)\n",
    "    return total"
   ]
  },
  {
   "cell_type": "code",
   "execution_count": 25,
   "id": "fbc8dfe1",
   "metadata": {},
   "outputs": [
    {
     "name": "stdout",
     "output_type": "stream",
     "text": [
      "inside the function : 30\n"
     ]
    },
    {
     "data": {
      "text/plain": [
       "30"
      ]
     },
     "execution_count": 25,
     "metadata": {},
     "output_type": "execute_result"
    }
   ],
   "source": [
    "sumfunc(10,20)"
   ]
  },
  {
   "cell_type": "code",
   "execution_count": 26,
   "id": "9f8cee7f",
   "metadata": {},
   "outputs": [
    {
     "name": "stdout",
     "output_type": "stream",
     "text": [
      "inside the function : 40\n",
      "Total: 40\n"
     ]
    }
   ],
   "source": [
    "tot= sumfunc(10,30)\n",
    "print('Total:',tot)"
   ]
  },
  {
   "cell_type": "code",
   "execution_count": 27,
   "id": "7bf43f52",
   "metadata": {},
   "outputs": [],
   "source": [
    "def add(a,b):\n",
    "    print(a+b)"
   ]
  },
  {
   "cell_type": "code",
   "execution_count": 28,
   "id": "cbbb6e60",
   "metadata": {},
   "outputs": [
    {
     "name": "stdout",
     "output_type": "stream",
     "text": [
      "180\n"
     ]
    }
   ],
   "source": [
    "add(90,90)"
   ]
  },
  {
   "cell_type": "code",
   "execution_count": 29,
   "id": "b330f767",
   "metadata": {},
   "outputs": [],
   "source": [
    "def addthree(a,b,c):\n",
    "    print(a+b+c)"
   ]
  },
  {
   "cell_type": "code",
   "execution_count": 30,
   "id": "edf78b1f",
   "metadata": {},
   "outputs": [
    {
     "name": "stdout",
     "output_type": "stream",
     "text": [
      "210\n"
     ]
    }
   ],
   "source": [
    "addthree(67,87,56)"
   ]
  },
  {
   "cell_type": "markdown",
   "id": "80c416e9",
   "metadata": {},
   "source": [
    "Variable number of arguments\n",
    "\n",
    "In case where you don't know the exact number of arguments that you want to pass to a function, you can use the following syntax with \"args\""
   ]
  },
  {
   "cell_type": "code",
   "execution_count": 31,
   "id": "80a14f34",
   "metadata": {},
   "outputs": [],
   "source": [
    "def plus(*args):\n",
    "    return sum(args)"
   ]
  },
  {
   "cell_type": "code",
   "execution_count": 32,
   "id": "19e856d9",
   "metadata": {},
   "outputs": [
    {
     "data": {
      "text/plain": [
       "100"
      ]
     },
     "execution_count": 32,
     "metadata": {},
     "output_type": "execute_result"
    }
   ],
   "source": [
    "plus(12,34,54)"
   ]
  },
  {
   "cell_type": "code",
   "execution_count": 33,
   "id": "7631df86",
   "metadata": {},
   "outputs": [
    {
     "data": {
      "text/plain": [
       "242"
      ]
     },
     "execution_count": 33,
     "metadata": {},
     "output_type": "execute_result"
    }
   ],
   "source": [
    "plus(12,76,23,231,-100)"
   ]
  },
  {
   "cell_type": "code",
   "execution_count": 39,
   "id": "c72903fa",
   "metadata": {},
   "outputs": [],
   "source": [
    "def boss(*salary):\n",
    "    return sum(salary)"
   ]
  },
  {
   "cell_type": "code",
   "execution_count": 40,
   "id": "10d6bf37",
   "metadata": {},
   "outputs": [
    {
     "data": {
      "text/plain": [
       "46000"
      ]
     },
     "execution_count": 40,
     "metadata": {},
     "output_type": "execute_result"
    }
   ],
   "source": [
    "boss(1000,2000,3000,40004,-4)"
   ]
  },
  {
   "cell_type": "code",
   "execution_count": 41,
   "id": "a9834b0b",
   "metadata": {},
   "outputs": [],
   "source": [
    "def boss(*salary):\n",
    "    return max(salary)"
   ]
  },
  {
   "cell_type": "code",
   "execution_count": 42,
   "id": "8e2b0c2c",
   "metadata": {},
   "outputs": [
    {
     "data": {
      "text/plain": [
       "4567"
      ]
     },
     "execution_count": 42,
     "metadata": {},
     "output_type": "execute_result"
    }
   ],
   "source": [
    "boss(1234,3456,543,4567)"
   ]
  },
  {
   "cell_type": "code",
   "execution_count": 43,
   "id": "e37b0641",
   "metadata": {},
   "outputs": [],
   "source": [
    "def boss(*salary):\n",
    "    return min(salary)"
   ]
  },
  {
   "cell_type": "code",
   "execution_count": 45,
   "id": "015003df",
   "metadata": {},
   "outputs": [
    {
     "data": {
      "text/plain": [
       "1234"
      ]
     },
     "execution_count": 45,
     "metadata": {},
     "output_type": "execute_result"
    }
   ],
   "source": [
    "boss(1234,8765,5678,8888)"
   ]
  },
  {
   "cell_type": "markdown",
   "id": "78d91e50",
   "metadata": {},
   "source": []
  },
  {
   "cell_type": "code",
   "execution_count": 46,
   "id": "c18b7a47",
   "metadata": {},
   "outputs": [],
   "source": [
    "#s=s+n       for s+=n\n",
    "\n",
    "\n",
    "def sumfunct(*numbers):\n",
    "    s=0    \n",
    "    for n in numbers:\n",
    "        s+=n\n",
    "    return  s"
   ]
  },
  {
   "cell_type": "code",
   "execution_count": 47,
   "id": "5209ddb1",
   "metadata": {},
   "outputs": [
    {
     "data": {
      "text/plain": [
       "9"
      ]
     },
     "execution_count": 47,
     "metadata": {},
     "output_type": "execute_result"
    }
   ],
   "source": [
    "sumfunct(2,3,4)"
   ]
  },
  {
   "cell_type": "code",
   "execution_count": 51,
   "id": "00973ebd",
   "metadata": {},
   "outputs": [],
   "source": [
    "def sumfunct(*numbers):\n",
    "    s=3    \n",
    "    for n in numbers:\n",
    "        s+=n\n",
    "    return  s"
   ]
  },
  {
   "cell_type": "code",
   "execution_count": 52,
   "id": "7a92d222",
   "metadata": {},
   "outputs": [
    {
     "data": {
      "text/plain": [
       "12"
      ]
     },
     "execution_count": 52,
     "metadata": {},
     "output_type": "execute_result"
    }
   ],
   "source": [
    "sumfunct(2,3,4)"
   ]
  },
  {
   "cell_type": "code",
   "execution_count": 53,
   "id": "1a111115",
   "metadata": {},
   "outputs": [],
   "source": [
    "def sumfunct(*numbers):\n",
    "    s=0    \n",
    "    for n in numbers:\n",
    "        s+=n\n",
    "    return  s"
   ]
  },
  {
   "cell_type": "code",
   "execution_count": 54,
   "id": "a08ef509",
   "metadata": {},
   "outputs": [
    {
     "data": {
      "text/plain": [
       "78"
      ]
     },
     "execution_count": 54,
     "metadata": {},
     "output_type": "execute_result"
    }
   ],
   "source": [
    "sumfunct(12,23,31,12)"
   ]
  },
  {
   "cell_type": "markdown",
   "id": "9822cc48",
   "metadata": {},
   "source": [
    "#### Anonymous function Lambda\n",
    "\n",
    "A lambda function is a small function containing a single expresion. Lambda functions can also act as anonymous functions where they dont require any name .These are very helpful when we have to perform small tasks with less code.\n",
    "\n",
    "the expression is composed of:\n",
    "\n",
    "A bound variable:x\n",
    "\n",
    "A body :x*2"
   ]
  },
  {
   "cell_type": "code",
   "execution_count": 55,
   "id": "6ffe7330",
   "metadata": {},
   "outputs": [
    {
     "data": {
      "text/plain": [
       "30"
      ]
     },
     "execution_count": 55,
     "metadata": {},
     "output_type": "execute_result"
    }
   ],
   "source": [
    "lx=lambda x,y :x+y\n",
    "lx(10,20)"
   ]
  },
  {
   "cell_type": "code",
   "execution_count": 56,
   "id": "3342cfe8",
   "metadata": {},
   "outputs": [],
   "source": [
    "test=lambda a:a*8"
   ]
  },
  {
   "cell_type": "code",
   "execution_count": 57,
   "id": "a994b7b8",
   "metadata": {},
   "outputs": [
    {
     "data": {
      "text/plain": [
       "72"
      ]
     },
     "execution_count": 57,
     "metadata": {},
     "output_type": "execute_result"
    }
   ],
   "source": [
    "test(9)"
   ]
  },
  {
   "cell_type": "code",
   "execution_count": 66,
   "id": "c4f3656e",
   "metadata": {},
   "outputs": [],
   "source": [
    "test1=lambda a:a*2"
   ]
  },
  {
   "cell_type": "code",
   "execution_count": 67,
   "id": "125b29c3",
   "metadata": {},
   "outputs": [
    {
     "data": {
      "text/plain": [
       "4"
      ]
     },
     "execution_count": 67,
     "metadata": {},
     "output_type": "execute_result"
    }
   ],
   "source": [
    "test1(2)"
   ]
  },
  {
   "cell_type": "code",
   "execution_count": 68,
   "id": "8af7eb9f",
   "metadata": {},
   "outputs": [
    {
     "data": {
      "text/plain": [
       "30"
      ]
     },
     "execution_count": 68,
     "metadata": {},
     "output_type": "execute_result"
    }
   ],
   "source": [
    "add=lambda a,b:a+b\n",
    "add(19,11)"
   ]
  },
  {
   "cell_type": "code",
   "execution_count": 69,
   "id": "c8c8d0af",
   "metadata": {},
   "outputs": [
    {
     "data": {
      "text/plain": [
       "400"
      ]
     },
     "execution_count": 69,
     "metadata": {},
     "output_type": "execute_result"
    }
   ],
   "source": [
    "square= lambda z: z**2\n",
    "square(20)"
   ]
  },
  {
   "cell_type": "code",
   "execution_count": 70,
   "id": "4897bfb5",
   "metadata": {},
   "outputs": [
    {
     "data": {
      "text/plain": [
       "1000"
      ]
     },
     "execution_count": 70,
     "metadata": {},
     "output_type": "execute_result"
    }
   ],
   "source": [
    "cube= lambda g:g**3\n",
    "cube(10)"
   ]
  },
  {
   "cell_type": "code",
   "execution_count": 71,
   "id": "687f25eb",
   "metadata": {},
   "outputs": [
    {
     "name": "stdout",
     "output_type": "stream",
     "text": [
      "value of total :  25\n",
      "value of total :  65\n"
     ]
    }
   ],
   "source": [
    "addvar= lambda ar1,ar2:ar1+ar2\n",
    "\n",
    "print('value of total : ',addvar(15,10))\n",
    "print('value of total : ',addvar(20,45))"
   ]
  },
  {
   "cell_type": "code",
   "execution_count": 72,
   "id": "339ab3cc",
   "metadata": {},
   "outputs": [],
   "source": [
    "add=lambda a:a+2"
   ]
  },
  {
   "cell_type": "code",
   "execution_count": 73,
   "id": "42c1b41f",
   "metadata": {},
   "outputs": [
    {
     "data": {
      "text/plain": [
       "4"
      ]
     },
     "execution_count": 73,
     "metadata": {},
     "output_type": "execute_result"
    }
   ],
   "source": [
    "add(2)"
   ]
  },
  {
   "cell_type": "code",
   "execution_count": 1,
   "id": "1cbaa290",
   "metadata": {},
   "outputs": [],
   "source": [
    "mylist = [1,2,3,4,5,6]\n",
    "#map(Lambda x :x*2,mylist)"
   ]
  },
  {
   "cell_type": "code",
   "execution_count": null,
   "id": "b5c3253d",
   "metadata": {},
   "outputs": [],
   "source": []
  }
 ],
 "metadata": {
  "kernelspec": {
   "display_name": "Python 3 (ipykernel)",
   "language": "python",
   "name": "python3"
  },
  "language_info": {
   "codemirror_mode": {
    "name": "ipython",
    "version": 3
   },
   "file_extension": ".py",
   "mimetype": "text/x-python",
   "name": "python",
   "nbconvert_exporter": "python",
   "pygments_lexer": "ipython3",
   "version": "3.9.7"
  }
 },
 "nbformat": 4,
 "nbformat_minor": 5
}
