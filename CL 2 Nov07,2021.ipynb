{
 "cells": [
  {
   "cell_type": "markdown",
   "id": "216125cd",
   "metadata": {},
   "source": [
    "# DATA STRUCTURES"
   ]
  },
  {
   "cell_type": "markdown",
   "id": "393ca13e",
   "metadata": {},
   "source": [
    "List"
   ]
  },
  {
   "cell_type": "code",
   "execution_count": 3,
   "id": "c99a1cb6",
   "metadata": {},
   "outputs": [],
   "source": [
    "list1=[1,2,3,4,5,6,7]"
   ]
  },
  {
   "cell_type": "code",
   "execution_count": 4,
   "id": "7242bba5",
   "metadata": {},
   "outputs": [
    {
     "data": {
      "text/plain": [
       "[1, 2, 3, 4, 5, 6, 7]"
      ]
     },
     "execution_count": 4,
     "metadata": {},
     "output_type": "execute_result"
    }
   ],
   "source": [
    "list1"
   ]
  },
  {
   "cell_type": "code",
   "execution_count": 5,
   "id": "160ef9fa",
   "metadata": {},
   "outputs": [],
   "source": [
    "list2=[11,22,33,44]"
   ]
  },
  {
   "cell_type": "code",
   "execution_count": 6,
   "id": "55feaa09",
   "metadata": {},
   "outputs": [
    {
     "data": {
      "text/plain": [
       "[11, 22, 33, 44]"
      ]
     },
     "execution_count": 6,
     "metadata": {},
     "output_type": "execute_result"
    }
   ],
   "source": [
    "list2"
   ]
  },
  {
   "cell_type": "code",
   "execution_count": 7,
   "id": "6ba1eb57",
   "metadata": {},
   "outputs": [],
   "source": [
    "list3=[12,51,54,56,15,12]"
   ]
  },
  {
   "cell_type": "code",
   "execution_count": 8,
   "id": "9bd0859b",
   "metadata": {},
   "outputs": [
    {
     "data": {
      "text/plain": [
       "[12, 51, 54, 56, 15, 12]"
      ]
     },
     "execution_count": 8,
     "metadata": {},
     "output_type": "execute_result"
    }
   ],
   "source": [
    "list3"
   ]
  },
  {
   "cell_type": "code",
   "execution_count": 9,
   "id": "5b3dc799",
   "metadata": {},
   "outputs": [],
   "source": [
    "list4=[5.0,6.2,7.3,8.3,9.1,10.2]"
   ]
  },
  {
   "cell_type": "code",
   "execution_count": 10,
   "id": "fc15eecd",
   "metadata": {},
   "outputs": [
    {
     "data": {
      "text/plain": [
       "[5.0, 6.2, 7.3, 8.3, 9.1, 10.2]"
      ]
     },
     "execution_count": 10,
     "metadata": {},
     "output_type": "execute_result"
    }
   ],
   "source": [
    "list4"
   ]
  },
  {
   "cell_type": "code",
   "execution_count": 11,
   "id": "0cb4558a",
   "metadata": {},
   "outputs": [],
   "source": [
    "list5=['a','b','c','d','e']"
   ]
  },
  {
   "cell_type": "code",
   "execution_count": 12,
   "id": "dceb6a3f",
   "metadata": {},
   "outputs": [
    {
     "data": {
      "text/plain": [
       "['a', 'b', 'c', 'd', 'e']"
      ]
     },
     "execution_count": 12,
     "metadata": {},
     "output_type": "execute_result"
    }
   ],
   "source": [
    "list5"
   ]
  },
  {
   "cell_type": "code",
   "execution_count": 14,
   "id": "c91bbcda",
   "metadata": {},
   "outputs": [],
   "source": [
    "list6=['d','fr',41,25.0,'DEV']"
   ]
  },
  {
   "cell_type": "code",
   "execution_count": 15,
   "id": "7f3470a2",
   "metadata": {},
   "outputs": [
    {
     "data": {
      "text/plain": [
       "['d', 'fr', 41, 25.0, 'DEV']"
      ]
     },
     "execution_count": 15,
     "metadata": {},
     "output_type": "execute_result"
    }
   ],
   "source": [
    "list6"
   ]
  },
  {
   "cell_type": "code",
   "execution_count": 21,
   "id": "f9319687",
   "metadata": {},
   "outputs": [],
   "source": [
    "planetlist=['mercury','venus','earth','mars','jupiter','saturn','uranus']"
   ]
  },
  {
   "cell_type": "code",
   "execution_count": 22,
   "id": "1f0646a5",
   "metadata": {},
   "outputs": [
    {
     "data": {
      "text/plain": [
       "['mercury', 'venus', 'earth', 'mars', 'jupiter', 'saturn', 'uranus']"
      ]
     },
     "execution_count": 22,
     "metadata": {},
     "output_type": "execute_result"
    }
   ],
   "source": [
    "planetlist"
   ]
  },
  {
   "cell_type": "code",
   "execution_count": 23,
   "id": "e2b41d6a",
   "metadata": {},
   "outputs": [
    {
     "data": {
      "text/plain": [
       "7"
      ]
     },
     "execution_count": 23,
     "metadata": {},
     "output_type": "execute_result"
    }
   ],
   "source": [
    "len(planetlist)"
   ]
  },
  {
   "cell_type": "code",
   "execution_count": 24,
   "id": "6e610221",
   "metadata": {},
   "outputs": [
    {
     "data": {
      "text/plain": [
       "10"
      ]
     },
     "execution_count": 24,
     "metadata": {},
     "output_type": "execute_result"
    }
   ],
   "source": [
    "len(\"planetlist\")"
   ]
  },
  {
   "cell_type": "markdown",
   "id": "34df8349",
   "metadata": {},
   "source": [
    "INDEXING"
   ]
  },
  {
   "cell_type": "markdown",
   "id": "7a06c8c2",
   "metadata": {},
   "source": [
    "Indexing follows list[0,1,2,3,4,5,6,7,8]\n",
    "Negative indexing list[-9,-8,-7,-6,-5,-4,-3,-2,-1]"
   ]
  },
  {
   "cell_type": "code",
   "execution_count": 48,
   "id": "4b1faa15",
   "metadata": {},
   "outputs": [
    {
     "data": {
      "text/plain": [
       "'saturn'"
      ]
     },
     "execution_count": 48,
     "metadata": {},
     "output_type": "execute_result"
    }
   ],
   "source": [
    "planetlist[5]"
   ]
  },
  {
   "cell_type": "code",
   "execution_count": 28,
   "id": "4d60279d",
   "metadata": {},
   "outputs": [
    {
     "data": {
      "text/plain": [
       "'jupiter'"
      ]
     },
     "execution_count": 28,
     "metadata": {},
     "output_type": "execute_result"
    }
   ],
   "source": [
    "planetlist[-3]"
   ]
  },
  {
   "cell_type": "code",
   "execution_count": 30,
   "id": "81cb301a",
   "metadata": {},
   "outputs": [
    {
     "data": {
      "text/plain": [
       "'saturn'"
      ]
     },
     "execution_count": 30,
     "metadata": {},
     "output_type": "execute_result"
    }
   ],
   "source": [
    "planetlist[5]"
   ]
  },
  {
   "cell_type": "code",
   "execution_count": 32,
   "id": "9e985565",
   "metadata": {},
   "outputs": [
    {
     "data": {
      "text/plain": [
       "'uranus'"
      ]
     },
     "execution_count": 32,
     "metadata": {},
     "output_type": "execute_result"
    }
   ],
   "source": [
    "planetlist[6]"
   ]
  },
  {
   "cell_type": "code",
   "execution_count": 33,
   "id": "c9289cfd",
   "metadata": {
    "scrolled": true
   },
   "outputs": [
    {
     "data": {
      "text/plain": [
       "'jupiter'"
      ]
     },
     "execution_count": 33,
     "metadata": {},
     "output_type": "execute_result"
    }
   ],
   "source": [
    "planetlist[4]"
   ]
  },
  {
   "cell_type": "code",
   "execution_count": null,
   "id": "1528ca12",
   "metadata": {},
   "outputs": [],
   "source": []
  },
  {
   "cell_type": "code",
   "execution_count": null,
   "id": "bc876079",
   "metadata": {},
   "outputs": [],
   "source": []
  },
  {
   "cell_type": "markdown",
   "id": "cd83b52d",
   "metadata": {},
   "source": [
    "SLICING THE LIST"
   ]
  },
  {
   "cell_type": "code",
   "execution_count": 34,
   "id": "3e4d94ec",
   "metadata": {},
   "outputs": [],
   "source": [
    "listA=[100,200,300,400,500,600,700]"
   ]
  },
  {
   "cell_type": "code",
   "execution_count": 35,
   "id": "5459b2d2",
   "metadata": {},
   "outputs": [
    {
     "data": {
      "text/plain": [
       "[100, 200, 300]"
      ]
     },
     "execution_count": 35,
     "metadata": {},
     "output_type": "execute_result"
    }
   ],
   "source": [
    "listA[0:3]"
   ]
  },
  {
   "cell_type": "code",
   "execution_count": 36,
   "id": "21b58cda",
   "metadata": {},
   "outputs": [
    {
     "data": {
      "text/plain": [
       "[300, 400, 500, 600]"
      ]
     },
     "execution_count": 36,
     "metadata": {},
     "output_type": "execute_result"
    }
   ],
   "source": [
    "listA[2:6]"
   ]
  },
  {
   "cell_type": "code",
   "execution_count": 43,
   "id": "ab3f5147",
   "metadata": {},
   "outputs": [],
   "source": [
    "listB=[45,41,456,12,25,18,66,48,325,458,556,254,235]"
   ]
  },
  {
   "cell_type": "code",
   "execution_count": 44,
   "id": "0fc2fd6c",
   "metadata": {},
   "outputs": [
    {
     "data": {
      "text/plain": [
       "[25, 18, 66, 48, 325]"
      ]
     },
     "execution_count": 44,
     "metadata": {},
     "output_type": "execute_result"
    }
   ],
   "source": [
    "listB[4:9]"
   ]
  },
  {
   "cell_type": "code",
   "execution_count": 45,
   "id": "0ce6c996",
   "metadata": {},
   "outputs": [
    {
     "data": {
      "text/plain": [
       "[18, 66, 48, 325, 458]"
      ]
     },
     "execution_count": 45,
     "metadata": {},
     "output_type": "execute_result"
    }
   ],
   "source": [
    "listB[5:10]"
   ]
  },
  {
   "cell_type": "code",
   "execution_count": 46,
   "id": "1ebc0fa6",
   "metadata": {},
   "outputs": [
    {
     "data": {
      "text/plain": [
       "13"
      ]
     },
     "execution_count": 46,
     "metadata": {},
     "output_type": "execute_result"
    }
   ],
   "source": [
    "len(listB)"
   ]
  },
  {
   "cell_type": "code",
   "execution_count": 47,
   "id": "9d465fc4",
   "metadata": {},
   "outputs": [
    {
     "data": {
      "text/plain": [
       "[12, 25, 18, 66, 48]"
      ]
     },
     "execution_count": 47,
     "metadata": {},
     "output_type": "execute_result"
    }
   ],
   "source": [
    "listB[-10:-5]"
   ]
  },
  {
   "cell_type": "code",
   "execution_count": null,
   "id": "72c92af5",
   "metadata": {},
   "outputs": [],
   "source": []
  }
 ],
 "metadata": {
  "kernelspec": {
   "display_name": "Python 3",
   "language": "python",
   "name": "python3"
  },
  "language_info": {
   "codemirror_mode": {
    "name": "ipython",
    "version": 3
   },
   "file_extension": ".py",
   "mimetype": "text/x-python",
   "name": "python",
   "nbconvert_exporter": "python",
   "pygments_lexer": "ipython3",
   "version": "3.8.8"
  }
 },
 "nbformat": 4,
 "nbformat_minor": 5
}
